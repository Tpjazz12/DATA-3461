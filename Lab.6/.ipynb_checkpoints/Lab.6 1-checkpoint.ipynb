{
 "cells": [
  {
   "cell_type": "markdown",
   "id": "49cf8381",
   "metadata": {},
   "source": [
    "# Lab 6\n",
    "\n",
    "Scikit learn provides a large variety of algorithms for some common Machine Learning tasks, such as:\n",
    "\n",
    "* Classification\n",
    "* Regression\n",
    "* Clustering\n",
    "* Feature Selection\n",
    "* Anomaly Detection\n",
    "\n",
    "It also provides some datasets that you can use to test these algorithms:\n",
    "\n",
    "* Classification Datasets:\n",
    "    * Breast cancer wisconsin\n",
    "    * Iris plants (3-classes)\n",
    "    * Optical recognition of handwritten digits (10-classes)\n",
    "    * Wine (n-classes)\n",
    "\n",
    "* Regression Datasets: \n",
    "    * Boston house prices \n",
    "    * Diabetes\n",
    "    * Linnerrud (multiple regression)\n",
    "    * California Housing\n",
    "\n",
    "* Image: \n",
    "    * The Olivetti faces\n",
    "    * The Labeled Faces in the Wild face recognition\n",
    "    * Forest covertypes\n",
    "\n",
    "* NLP:\n",
    "    * News group\n",
    "    * Reuters Corpus Volume I \n",
    "\n",
    "* Other:\n",
    "    * Kddcup 99- Intrusion Detection"
   ]
  },
  {
   "cell_type": "markdown",
   "id": "d4e3b6e9",
   "metadata": {},
   "source": [
    "## Exercises\n",
    "\n",
    "1. Use the full [Kddcup](http://kdd.ics.uci.edu/databases/kddcup99/kddcup99.html) dataset to compare classification performance of 3 different classifiers. \n",
    "    * Separate the data into train, validation, and test. \n",
    "    * Use accuracy as the metric for assessing performance. \n",
    "    * For each classifier, identify the hyperparameters. Perform optimization over at least 2 hyperparameters.   \n",
    "    * Compare the performance of the optimal configuration of the classifiers.\n",
    "\n",
    "2. Pick the best algorithm in question 1. Create an ensemble of at least 25 models, and use them for the classification task. Identify the top and bottom 10% of the data in terms of uncertainty of the decision.\n",
    "\n",
    "3. Use 2 different feature selection algorithm to identify the 10 most important features for the task in question 1. Retrain classifiers in question 1 with just this subset of features and compare performance.\n",
    "\n",
    "4. Use the same data, removing the labels, and compare performance of 3 different clustering algorithms. Can you find clusters for each of the classes in question 1? \n",
    "\n",
    "5. Can you identify any clusters within the top/botton 10% identified in 2. What are their characteristics?\n",
    "\n",
    "6. Use the \"SA\" dataset to compare the performance of 3 different anomaly detection algorithms.\n",
    "\n",
    "7. Create a subsample of 250 datapoints, redo question 6, using Leave-one-out as the method of evaluation.\n",
    "\n",
    "8. Use the feature selection algorithm to identify the 5 most important features for the task in question 6, for each algorithm. Does the anomaly detection improve using less features?"
   ]
  },
  {
   "cell_type": "markdown",
   "id": "5c5686c2",
   "metadata": {},
   "source": [
    "### Disclaimer: Lab completed with the partial assistance of Google searches and ChatGPT"
   ]
  },
  {
   "cell_type": "markdown",
   "id": "a0739722",
   "metadata": {},
   "source": [
    "## Importing Packages"
   ]
  },
  {
   "cell_type": "code",
   "execution_count": 1,
   "id": "be85c8d4",
   "metadata": {},
   "outputs": [],
   "source": [
    "from sklearn.datasets import fetch_kddcup99\n",
    "import numpy as np\n",
    "import pandas as pd\n",
    "from sklearn.model_selection import train_test_split\n",
    "from sklearn.preprocessing import LabelEncoder"
   ]
  },
  {
   "cell_type": "markdown",
   "id": "ef18662c",
   "metadata": {},
   "source": [
    "## Quick look at the data"
   ]
  },
  {
   "cell_type": "code",
   "execution_count": 16,
   "id": "9f1c631a",
   "metadata": {},
   "outputs": [],
   "source": [
    "d = fetch_kddcup99()\n",
    "df = fetch_kddcup99(as_frame=True)"
   ]
  },
  {
   "cell_type": "code",
   "execution_count": 3,
   "id": "8713702e",
   "metadata": {},
   "outputs": [
    {
     "data": {
      "text/plain": [
       "dict_keys(['data', 'target', 'frame', 'target_names', 'feature_names', 'DESCR'])"
      ]
     },
     "execution_count": 3,
     "metadata": {},
     "output_type": "execute_result"
    }
   ],
   "source": [
    "df.keys()"
   ]
  },
  {
   "cell_type": "code",
   "execution_count": 6,
   "id": "ccd2f84e",
   "metadata": {
    "collapsed": true
   },
   "outputs": [
    {
     "name": "stdout",
     "output_type": "stream",
     "text": [
      ".. _kddcup99_dataset:\n",
      "\n",
      "Kddcup 99 dataset\n",
      "-----------------\n",
      "\n",
      "The KDD Cup '99 dataset was created by processing the tcpdump portions\n",
      "of the 1998 DARPA Intrusion Detection System (IDS) Evaluation dataset,\n",
      "created by MIT Lincoln Lab [2]_. The artificial data (described on the `dataset's\n",
      "homepage <https://kdd.ics.uci.edu/databases/kddcup99/kddcup99.html>`_) was\n",
      "generated using a closed network and hand-injected attacks to produce a\n",
      "large number of different types of attack with normal activity in the\n",
      "background. As the initial goal was to produce a large training set for\n",
      "supervised learning algorithms, there is a large proportion (80.1%) of\n",
      "abnormal data which is unrealistic in real world, and inappropriate for\n",
      "unsupervised anomaly detection which aims at detecting 'abnormal' data, i.e.:\n",
      "\n",
      "* qualitatively different from normal data\n",
      "* in large minority among the observations.\n",
      "\n",
      "We thus transform the KDD Data set into two different data sets: SA and SF.\n",
      "\n",
      "* SA is obtained by simply selecting all the normal data, and a small\n",
      "  proportion of abnormal data to gives an anomaly proportion of 1%.\n",
      "\n",
      "* SF is obtained as in [3]_\n",
      "  by simply picking up the data whose attribute logged_in is positive, thus\n",
      "  focusing on the intrusion attack, which gives a proportion of 0.3% of\n",
      "  attack.\n",
      "\n",
      "* http and smtp are two subsets of SF corresponding with third feature\n",
      "  equal to 'http' (resp. to 'smtp').\n",
      "\n",
      "General KDD structure :\n",
      "\n",
      "    ================      ==========================================\n",
      "    Samples total         4898431\n",
      "    Dimensionality        41\n",
      "    Features              discrete (int) or continuous (float)\n",
      "    Targets               str, 'normal.' or name of the anomaly type\n",
      "    ================      ==========================================\n",
      "\n",
      "    SA structure :\n",
      "\n",
      "    ================      ==========================================\n",
      "    Samples total         976158\n",
      "    Dimensionality        41\n",
      "    Features              discrete (int) or continuous (float)\n",
      "    Targets               str, 'normal.' or name of the anomaly type\n",
      "    ================      ==========================================\n",
      "\n",
      "    SF structure :\n",
      "\n",
      "    ================      ==========================================\n",
      "    Samples total         699691\n",
      "    Dimensionality        4\n",
      "    Features              discrete (int) or continuous (float)\n",
      "    Targets               str, 'normal.' or name of the anomaly type\n",
      "    ================      ==========================================\n",
      "\n",
      "    http structure :\n",
      "\n",
      "    ================      ==========================================\n",
      "    Samples total         619052\n",
      "    Dimensionality        3\n",
      "    Features              discrete (int) or continuous (float)\n",
      "    Targets               str, 'normal.' or name of the anomaly type\n",
      "    ================      ==========================================\n",
      "\n",
      "    smtp structure :\n",
      "\n",
      "    ================      ==========================================\n",
      "    Samples total         95373\n",
      "    Dimensionality        3\n",
      "    Features              discrete (int) or continuous (float)\n",
      "    Targets               str, 'normal.' or name of the anomaly type\n",
      "    ================      ==========================================\n",
      "\n",
      ":func:`sklearn.datasets.fetch_kddcup99` will load the kddcup99 dataset; it\n",
      "returns a dictionary-like object with the feature matrix in the ``data`` member\n",
      "and the target values in ``target``. The \"as_frame\" optional argument converts\n",
      "``data`` into a pandas DataFrame and ``target`` into a pandas Series. The\n",
      "dataset will be downloaded from the web if necessary.\n",
      "\n",
      ".. topic:: References\n",
      "\n",
      "    .. [2] Analysis and Results of the 1999 DARPA Off-Line Intrusion\n",
      "           Detection Evaluation, Richard Lippmann, Joshua W. Haines,\n",
      "           David J. Fried, Jonathan Korba, Kumar Das.\n",
      "\n",
      "    .. [3] K. Yamanishi, J.-I. Takeuchi, G. Williams, and P. Milne. Online\n",
      "           unsupervised outlier detection using finite mixtures with\n",
      "           discounting learning algorithms. In Proceedings of the sixth\n",
      "           ACM SIGKDD international conference on Knowledge discovery\n",
      "           and data mining, pages 320-324. ACM Press, 2000.\n",
      "\n"
     ]
    }
   ],
   "source": [
    "print(df['DESCR'])"
   ]
  },
  {
   "cell_type": "code",
   "execution_count": 17,
   "id": "f4a4ab86",
   "metadata": {},
   "outputs": [],
   "source": [
    "data, target = df['data'], df['target']"
   ]
  },
  {
   "cell_type": "code",
   "execution_count": 4,
   "id": "f271cc9b",
   "metadata": {},
   "outputs": [
    {
     "data": {
      "text/html": [
       "<div>\n",
       "<style scoped>\n",
       "    .dataframe tbody tr th:only-of-type {\n",
       "        vertical-align: middle;\n",
       "    }\n",
       "\n",
       "    .dataframe tbody tr th {\n",
       "        vertical-align: top;\n",
       "    }\n",
       "\n",
       "    .dataframe thead th {\n",
       "        text-align: right;\n",
       "    }\n",
       "</style>\n",
       "<table border=\"1\" class=\"dataframe\">\n",
       "  <thead>\n",
       "    <tr style=\"text-align: right;\">\n",
       "      <th></th>\n",
       "      <th>duration</th>\n",
       "      <th>protocol_type</th>\n",
       "      <th>service</th>\n",
       "      <th>flag</th>\n",
       "      <th>src_bytes</th>\n",
       "      <th>dst_bytes</th>\n",
       "      <th>land</th>\n",
       "      <th>wrong_fragment</th>\n",
       "      <th>urgent</th>\n",
       "      <th>hot</th>\n",
       "      <th>...</th>\n",
       "      <th>dst_host_count</th>\n",
       "      <th>dst_host_srv_count</th>\n",
       "      <th>dst_host_same_srv_rate</th>\n",
       "      <th>dst_host_diff_srv_rate</th>\n",
       "      <th>dst_host_same_src_port_rate</th>\n",
       "      <th>dst_host_srv_diff_host_rate</th>\n",
       "      <th>dst_host_serror_rate</th>\n",
       "      <th>dst_host_srv_serror_rate</th>\n",
       "      <th>dst_host_rerror_rate</th>\n",
       "      <th>dst_host_srv_rerror_rate</th>\n",
       "    </tr>\n",
       "  </thead>\n",
       "  <tbody>\n",
       "    <tr>\n",
       "      <th>0</th>\n",
       "      <td>0</td>\n",
       "      <td>b'tcp'</td>\n",
       "      <td>b'http'</td>\n",
       "      <td>b'SF'</td>\n",
       "      <td>181</td>\n",
       "      <td>5450</td>\n",
       "      <td>0</td>\n",
       "      <td>0</td>\n",
       "      <td>0</td>\n",
       "      <td>0</td>\n",
       "      <td>...</td>\n",
       "      <td>9</td>\n",
       "      <td>9</td>\n",
       "      <td>1.0</td>\n",
       "      <td>0.0</td>\n",
       "      <td>0.11</td>\n",
       "      <td>0.0</td>\n",
       "      <td>0.0</td>\n",
       "      <td>0.0</td>\n",
       "      <td>0.0</td>\n",
       "      <td>0.0</td>\n",
       "    </tr>\n",
       "    <tr>\n",
       "      <th>1</th>\n",
       "      <td>0</td>\n",
       "      <td>b'tcp'</td>\n",
       "      <td>b'http'</td>\n",
       "      <td>b'SF'</td>\n",
       "      <td>239</td>\n",
       "      <td>486</td>\n",
       "      <td>0</td>\n",
       "      <td>0</td>\n",
       "      <td>0</td>\n",
       "      <td>0</td>\n",
       "      <td>...</td>\n",
       "      <td>19</td>\n",
       "      <td>19</td>\n",
       "      <td>1.0</td>\n",
       "      <td>0.0</td>\n",
       "      <td>0.05</td>\n",
       "      <td>0.0</td>\n",
       "      <td>0.0</td>\n",
       "      <td>0.0</td>\n",
       "      <td>0.0</td>\n",
       "      <td>0.0</td>\n",
       "    </tr>\n",
       "    <tr>\n",
       "      <th>2</th>\n",
       "      <td>0</td>\n",
       "      <td>b'tcp'</td>\n",
       "      <td>b'http'</td>\n",
       "      <td>b'SF'</td>\n",
       "      <td>235</td>\n",
       "      <td>1337</td>\n",
       "      <td>0</td>\n",
       "      <td>0</td>\n",
       "      <td>0</td>\n",
       "      <td>0</td>\n",
       "      <td>...</td>\n",
       "      <td>29</td>\n",
       "      <td>29</td>\n",
       "      <td>1.0</td>\n",
       "      <td>0.0</td>\n",
       "      <td>0.03</td>\n",
       "      <td>0.0</td>\n",
       "      <td>0.0</td>\n",
       "      <td>0.0</td>\n",
       "      <td>0.0</td>\n",
       "      <td>0.0</td>\n",
       "    </tr>\n",
       "    <tr>\n",
       "      <th>3</th>\n",
       "      <td>0</td>\n",
       "      <td>b'tcp'</td>\n",
       "      <td>b'http'</td>\n",
       "      <td>b'SF'</td>\n",
       "      <td>219</td>\n",
       "      <td>1337</td>\n",
       "      <td>0</td>\n",
       "      <td>0</td>\n",
       "      <td>0</td>\n",
       "      <td>0</td>\n",
       "      <td>...</td>\n",
       "      <td>39</td>\n",
       "      <td>39</td>\n",
       "      <td>1.0</td>\n",
       "      <td>0.0</td>\n",
       "      <td>0.03</td>\n",
       "      <td>0.0</td>\n",
       "      <td>0.0</td>\n",
       "      <td>0.0</td>\n",
       "      <td>0.0</td>\n",
       "      <td>0.0</td>\n",
       "    </tr>\n",
       "    <tr>\n",
       "      <th>4</th>\n",
       "      <td>0</td>\n",
       "      <td>b'tcp'</td>\n",
       "      <td>b'http'</td>\n",
       "      <td>b'SF'</td>\n",
       "      <td>217</td>\n",
       "      <td>2032</td>\n",
       "      <td>0</td>\n",
       "      <td>0</td>\n",
       "      <td>0</td>\n",
       "      <td>0</td>\n",
       "      <td>...</td>\n",
       "      <td>49</td>\n",
       "      <td>49</td>\n",
       "      <td>1.0</td>\n",
       "      <td>0.0</td>\n",
       "      <td>0.02</td>\n",
       "      <td>0.0</td>\n",
       "      <td>0.0</td>\n",
       "      <td>0.0</td>\n",
       "      <td>0.0</td>\n",
       "      <td>0.0</td>\n",
       "    </tr>\n",
       "    <tr>\n",
       "      <th>...</th>\n",
       "      <td>...</td>\n",
       "      <td>...</td>\n",
       "      <td>...</td>\n",
       "      <td>...</td>\n",
       "      <td>...</td>\n",
       "      <td>...</td>\n",
       "      <td>...</td>\n",
       "      <td>...</td>\n",
       "      <td>...</td>\n",
       "      <td>...</td>\n",
       "      <td>...</td>\n",
       "      <td>...</td>\n",
       "      <td>...</td>\n",
       "      <td>...</td>\n",
       "      <td>...</td>\n",
       "      <td>...</td>\n",
       "      <td>...</td>\n",
       "      <td>...</td>\n",
       "      <td>...</td>\n",
       "      <td>...</td>\n",
       "      <td>...</td>\n",
       "    </tr>\n",
       "    <tr>\n",
       "      <th>494016</th>\n",
       "      <td>0</td>\n",
       "      <td>b'tcp'</td>\n",
       "      <td>b'http'</td>\n",
       "      <td>b'SF'</td>\n",
       "      <td>310</td>\n",
       "      <td>1881</td>\n",
       "      <td>0</td>\n",
       "      <td>0</td>\n",
       "      <td>0</td>\n",
       "      <td>0</td>\n",
       "      <td>...</td>\n",
       "      <td>86</td>\n",
       "      <td>255</td>\n",
       "      <td>1.0</td>\n",
       "      <td>0.0</td>\n",
       "      <td>0.01</td>\n",
       "      <td>0.05</td>\n",
       "      <td>0.0</td>\n",
       "      <td>0.01</td>\n",
       "      <td>0.0</td>\n",
       "      <td>0.0</td>\n",
       "    </tr>\n",
       "    <tr>\n",
       "      <th>494017</th>\n",
       "      <td>0</td>\n",
       "      <td>b'tcp'</td>\n",
       "      <td>b'http'</td>\n",
       "      <td>b'SF'</td>\n",
       "      <td>282</td>\n",
       "      <td>2286</td>\n",
       "      <td>0</td>\n",
       "      <td>0</td>\n",
       "      <td>0</td>\n",
       "      <td>0</td>\n",
       "      <td>...</td>\n",
       "      <td>6</td>\n",
       "      <td>255</td>\n",
       "      <td>1.0</td>\n",
       "      <td>0.0</td>\n",
       "      <td>0.17</td>\n",
       "      <td>0.05</td>\n",
       "      <td>0.0</td>\n",
       "      <td>0.01</td>\n",
       "      <td>0.0</td>\n",
       "      <td>0.0</td>\n",
       "    </tr>\n",
       "    <tr>\n",
       "      <th>494018</th>\n",
       "      <td>0</td>\n",
       "      <td>b'tcp'</td>\n",
       "      <td>b'http'</td>\n",
       "      <td>b'SF'</td>\n",
       "      <td>203</td>\n",
       "      <td>1200</td>\n",
       "      <td>0</td>\n",
       "      <td>0</td>\n",
       "      <td>0</td>\n",
       "      <td>0</td>\n",
       "      <td>...</td>\n",
       "      <td>16</td>\n",
       "      <td>255</td>\n",
       "      <td>1.0</td>\n",
       "      <td>0.0</td>\n",
       "      <td>0.06</td>\n",
       "      <td>0.05</td>\n",
       "      <td>0.06</td>\n",
       "      <td>0.01</td>\n",
       "      <td>0.0</td>\n",
       "      <td>0.0</td>\n",
       "    </tr>\n",
       "    <tr>\n",
       "      <th>494019</th>\n",
       "      <td>0</td>\n",
       "      <td>b'tcp'</td>\n",
       "      <td>b'http'</td>\n",
       "      <td>b'SF'</td>\n",
       "      <td>291</td>\n",
       "      <td>1200</td>\n",
       "      <td>0</td>\n",
       "      <td>0</td>\n",
       "      <td>0</td>\n",
       "      <td>0</td>\n",
       "      <td>...</td>\n",
       "      <td>26</td>\n",
       "      <td>255</td>\n",
       "      <td>1.0</td>\n",
       "      <td>0.0</td>\n",
       "      <td>0.04</td>\n",
       "      <td>0.05</td>\n",
       "      <td>0.04</td>\n",
       "      <td>0.01</td>\n",
       "      <td>0.0</td>\n",
       "      <td>0.0</td>\n",
       "    </tr>\n",
       "    <tr>\n",
       "      <th>494020</th>\n",
       "      <td>0</td>\n",
       "      <td>b'tcp'</td>\n",
       "      <td>b'http'</td>\n",
       "      <td>b'SF'</td>\n",
       "      <td>219</td>\n",
       "      <td>1234</td>\n",
       "      <td>0</td>\n",
       "      <td>0</td>\n",
       "      <td>0</td>\n",
       "      <td>0</td>\n",
       "      <td>...</td>\n",
       "      <td>6</td>\n",
       "      <td>255</td>\n",
       "      <td>1.0</td>\n",
       "      <td>0.0</td>\n",
       "      <td>0.17</td>\n",
       "      <td>0.05</td>\n",
       "      <td>0.0</td>\n",
       "      <td>0.01</td>\n",
       "      <td>0.0</td>\n",
       "      <td>0.0</td>\n",
       "    </tr>\n",
       "  </tbody>\n",
       "</table>\n",
       "<p>494021 rows × 41 columns</p>\n",
       "</div>"
      ],
      "text/plain": [
       "       duration protocol_type  service   flag src_bytes dst_bytes land  \\\n",
       "0             0        b'tcp'  b'http'  b'SF'       181      5450    0   \n",
       "1             0        b'tcp'  b'http'  b'SF'       239       486    0   \n",
       "2             0        b'tcp'  b'http'  b'SF'       235      1337    0   \n",
       "3             0        b'tcp'  b'http'  b'SF'       219      1337    0   \n",
       "4             0        b'tcp'  b'http'  b'SF'       217      2032    0   \n",
       "...         ...           ...      ...    ...       ...       ...  ...   \n",
       "494016        0        b'tcp'  b'http'  b'SF'       310      1881    0   \n",
       "494017        0        b'tcp'  b'http'  b'SF'       282      2286    0   \n",
       "494018        0        b'tcp'  b'http'  b'SF'       203      1200    0   \n",
       "494019        0        b'tcp'  b'http'  b'SF'       291      1200    0   \n",
       "494020        0        b'tcp'  b'http'  b'SF'       219      1234    0   \n",
       "\n",
       "       wrong_fragment urgent hot  ... dst_host_count dst_host_srv_count  \\\n",
       "0                   0      0   0  ...              9                  9   \n",
       "1                   0      0   0  ...             19                 19   \n",
       "2                   0      0   0  ...             29                 29   \n",
       "3                   0      0   0  ...             39                 39   \n",
       "4                   0      0   0  ...             49                 49   \n",
       "...               ...    ...  ..  ...            ...                ...   \n",
       "494016              0      0   0  ...             86                255   \n",
       "494017              0      0   0  ...              6                255   \n",
       "494018              0      0   0  ...             16                255   \n",
       "494019              0      0   0  ...             26                255   \n",
       "494020              0      0   0  ...              6                255   \n",
       "\n",
       "       dst_host_same_srv_rate dst_host_diff_srv_rate  \\\n",
       "0                         1.0                    0.0   \n",
       "1                         1.0                    0.0   \n",
       "2                         1.0                    0.0   \n",
       "3                         1.0                    0.0   \n",
       "4                         1.0                    0.0   \n",
       "...                       ...                    ...   \n",
       "494016                    1.0                    0.0   \n",
       "494017                    1.0                    0.0   \n",
       "494018                    1.0                    0.0   \n",
       "494019                    1.0                    0.0   \n",
       "494020                    1.0                    0.0   \n",
       "\n",
       "       dst_host_same_src_port_rate dst_host_srv_diff_host_rate  \\\n",
       "0                             0.11                         0.0   \n",
       "1                             0.05                         0.0   \n",
       "2                             0.03                         0.0   \n",
       "3                             0.03                         0.0   \n",
       "4                             0.02                         0.0   \n",
       "...                            ...                         ...   \n",
       "494016                        0.01                        0.05   \n",
       "494017                        0.17                        0.05   \n",
       "494018                        0.06                        0.05   \n",
       "494019                        0.04                        0.05   \n",
       "494020                        0.17                        0.05   \n",
       "\n",
       "       dst_host_serror_rate dst_host_srv_serror_rate dst_host_rerror_rate  \\\n",
       "0                       0.0                      0.0                  0.0   \n",
       "1                       0.0                      0.0                  0.0   \n",
       "2                       0.0                      0.0                  0.0   \n",
       "3                       0.0                      0.0                  0.0   \n",
       "4                       0.0                      0.0                  0.0   \n",
       "...                     ...                      ...                  ...   \n",
       "494016                  0.0                     0.01                  0.0   \n",
       "494017                  0.0                     0.01                  0.0   \n",
       "494018                 0.06                     0.01                  0.0   \n",
       "494019                 0.04                     0.01                  0.0   \n",
       "494020                  0.0                     0.01                  0.0   \n",
       "\n",
       "       dst_host_srv_rerror_rate  \n",
       "0                           0.0  \n",
       "1                           0.0  \n",
       "2                           0.0  \n",
       "3                           0.0  \n",
       "4                           0.0  \n",
       "...                         ...  \n",
       "494016                      0.0  \n",
       "494017                      0.0  \n",
       "494018                      0.0  \n",
       "494019                      0.0  \n",
       "494020                      0.0  \n",
       "\n",
       "[494021 rows x 41 columns]"
      ]
     },
     "execution_count": 4,
     "metadata": {},
     "output_type": "execute_result"
    }
   ],
   "source": [
    "data"
   ]
  },
  {
   "cell_type": "code",
   "execution_count": 18,
   "id": "25ef23a9",
   "metadata": {},
   "outputs": [
    {
     "name": "stderr",
     "output_type": "stream",
     "text": [
      "/tmp/ipykernel_255/1630450267.py:5: SettingWithCopyWarning: \n",
      "A value is trying to be set on a copy of a slice from a DataFrame.\n",
      "Try using .loc[row_indexer,col_indexer] = value instead\n",
      "\n",
      "See the caveats in the documentation: https://pandas.pydata.org/pandas-docs/stable/user_guide/indexing.html#returning-a-view-versus-a-copy\n",
      "  data[column] = label_encoder.fit_transform(data[column])\n"
     ]
    }
   ],
   "source": [
    "label_encoder = LabelEncoder()\n",
    "\n",
    "for column in data.columns:\n",
    "    if data[column].dtype == 'object':\n",
    "        data[column] = label_encoder.fit_transform(data[column])\n",
    "        \n",
    "target = label_encoder.fit_transform(target)"
   ]
  },
  {
   "cell_type": "code",
   "execution_count": 6,
   "id": "b686df77",
   "metadata": {},
   "outputs": [],
   "source": [
    "X_train, X_test, y_train, y_test = train_test_split(data, target, test_size=0.2, random_state=42)"
   ]
  },
  {
   "cell_type": "markdown",
   "id": "d6a83293",
   "metadata": {},
   "source": [
    "# 1.)"
   ]
  },
  {
   "cell_type": "markdown",
   "id": "0e0e2f66",
   "metadata": {},
   "source": [
    "## Stochastic Gradient Descent"
   ]
  },
  {
   "cell_type": "code",
   "execution_count": 7,
   "id": "4b27075d",
   "metadata": {},
   "outputs": [],
   "source": [
    "import numpy as np\n",
    "from sklearn.linear_model import SGDClassifier\n",
    "from sklearn.datasets import make_regression\n",
    "from sklearn.model_selection import train_test_split\n",
    "from sklearn.metrics import mean_squared_error\n",
    "from sklearn.metrics import accuracy_score"
   ]
  },
  {
   "cell_type": "code",
   "execution_count": 8,
   "id": "2a8865d5",
   "metadata": {},
   "outputs": [],
   "source": [
    "def fit_and_opt_SGDClassifier(sqd_clf, X_train, X_test, y_train, y_test):\n",
    "    # Fit the model to the training data\n",
    "    sgd_clf.fit(X_train, y_train)\n",
    "\n",
    "    # Make predictions on the test data\n",
    "    y_pred = sgd_clf.predict(X_test)\n",
    "\n",
    "    # Evaluate the model\n",
    "    accuracy = accuracy_score(y_test, y_pred)\n",
    "    print(f\"Accuracy: {accuracy}\")"
   ]
  },
  {
   "cell_type": "markdown",
   "id": "6b3b9628",
   "metadata": {},
   "source": [
    "#### No parameter optimization"
   ]
  },
  {
   "cell_type": "code",
   "execution_count": 80,
   "id": "7ebf7090",
   "metadata": {},
   "outputs": [
    {
     "name": "stdout",
     "output_type": "stream",
     "text": [
      "Accuracy: 0.9886442993775618\n",
      "CPU times: user 1min 20s, sys: 92.5 ms, total: 1min 20s\n",
      "Wall time: 1min 20s\n"
     ]
    }
   ],
   "source": [
    "%%time\n",
    "sgd_clf = SGDClassifier(max_iter=1000, tol=1e-3)\n",
    "fit_and_opt_SGDClassifier(sgd_clf, X_train, X_test, y_train, y_test)"
   ]
  },
  {
   "cell_type": "markdown",
   "id": "57880849",
   "metadata": {},
   "source": [
    "#### Optimizing `max_iter` \n",
    "Lowered to 100"
   ]
  },
  {
   "cell_type": "code",
   "execution_count": 81,
   "id": "ed6f0282",
   "metadata": {},
   "outputs": [
    {
     "name": "stdout",
     "output_type": "stream",
     "text": [
      "Accuracy: 0.9917615505288194\n",
      "CPU times: user 1min 13s, sys: 134 ms, total: 1min 13s\n",
      "Wall time: 1min 13s\n"
     ]
    },
    {
     "name": "stderr",
     "output_type": "stream",
     "text": [
      "/home/lemaurkydd/.local/lib/python3.8/site-packages/sklearn/linear_model/_stochastic_gradient.py:705: ConvergenceWarning: Maximum number of iteration reached before convergence. Consider increasing max_iter to improve the fit.\n",
      "  warnings.warn(\n"
     ]
    }
   ],
   "source": [
    "%%time\n",
    "sgd_clf = SGDClassifier(max_iter=100, tol=1e-3)\n",
    "fit_and_opt_SGDClassifier(sgd_clf, X_train, X_test, y_train, y_test)"
   ]
  },
  {
   "cell_type": "markdown",
   "id": "f82fd8d6",
   "metadata": {},
   "source": [
    "#### Optimizing `learning_rate` \n",
    "Changed to 'Optimal'"
   ]
  },
  {
   "cell_type": "code",
   "execution_count": 82,
   "id": "b54d15be",
   "metadata": {},
   "outputs": [
    {
     "name": "stdout",
     "output_type": "stream",
     "text": [
      "Accuracy: 0.9903648600779312\n",
      "CPU times: user 1min 10s, sys: 166 ms, total: 1min 11s\n",
      "Wall time: 1min 10s\n"
     ]
    }
   ],
   "source": [
    "%%time\n",
    "sgd_clf = SGDClassifier(max_iter=1000, tol=1e-3, learning_rate='optimal')\n",
    "fit_and_opt_SGDClassifier(sgd_clf, X_train, X_test, y_train, y_test)"
   ]
  },
  {
   "cell_type": "markdown",
   "id": "60077de6",
   "metadata": {},
   "source": [
    "## Support Vector Machine "
   ]
  },
  {
   "cell_type": "code",
   "execution_count": 9,
   "id": "25705c0b",
   "metadata": {},
   "outputs": [],
   "source": [
    "from sklearn.svm import SVC"
   ]
  },
  {
   "cell_type": "code",
   "execution_count": 10,
   "id": "47369e87",
   "metadata": {},
   "outputs": [],
   "source": [
    "def fit_and_opt_SVMClassifier(svm_model, X_train, X_test, y_train, y_test):\n",
    "    # Fit the model to the training data\n",
    "    svm_model.fit(X_train, y_train)\n",
    "\n",
    "    # Make predictions on the test data\n",
    "    y_pred = svm_model.predict(X_test)\n",
    "    \n",
    "    # Evaluate the model\n",
    "    print(\"Accuracy:\", accuracy_score(y_test, y_pred))"
   ]
  },
  {
   "cell_type": "markdown",
   "id": "f5614b71",
   "metadata": {},
   "source": [
    "#### No parameter optimization"
   ]
  },
  {
   "cell_type": "code",
   "execution_count": 86,
   "id": "27e2ab26",
   "metadata": {},
   "outputs": [
    {
     "name": "stdout",
     "output_type": "stream",
     "text": [
      "Accuracy: 0.999443348008704\n",
      "CPU times: user 10min 30s, sys: 428 ms, total: 10min 31s\n",
      "Wall time: 10min 31s\n"
     ]
    }
   ],
   "source": [
    "%%time\n",
    "svm_model = SVC(kernel='linear', decision_function_shape='ovo')\n",
    "fit_and_opt_SVMClassifier(svm_model, X_train, X_test, y_train, y_test)"
   ]
  },
  {
   "cell_type": "markdown",
   "id": "947ac157",
   "metadata": {},
   "source": [
    "#### Optimizing `kernel`\n",
    "Changing to Sigmoid"
   ]
  },
  {
   "cell_type": "code",
   "execution_count": 88,
   "id": "326dbee9",
   "metadata": {},
   "outputs": [
    {
     "name": "stdout",
     "output_type": "stream",
     "text": [
      "Accuracy: 0.9812964930924548\n",
      "CPU times: user 46min 38s, sys: 1.89 s, total: 46min 40s\n",
      "Wall time: 46min 40s\n"
     ]
    }
   ],
   "source": [
    "%%time\n",
    "svm_model = SVC(kernel='sigmoid', decision_function_shape='ovo')\n",
    "fit_and_opt_SVMClassifier(svm_model, X_train, X_test, y_train, y_test)"
   ]
  },
  {
   "cell_type": "markdown",
   "id": "402121a2",
   "metadata": {},
   "source": [
    "#### Optimizing `degree`\n",
    "Changing to 5"
   ]
  },
  {
   "cell_type": "code",
   "execution_count": 89,
   "id": "59b40403",
   "metadata": {},
   "outputs": [
    {
     "name": "stdout",
     "output_type": "stream",
     "text": [
      "Accuracy: 0.999443348008704\n",
      "CPU times: user 10min 52s, sys: 250 ms, total: 10min 53s\n",
      "Wall time: 10min 53s\n"
     ]
    }
   ],
   "source": [
    "%%time\n",
    "svm_model = SVC(kernel='linear', decision_function_shape='ovo', degree=5)\n",
    "fit_and_opt_SVMClassifier(svm_model, X_train, X_test, y_train, y_test)"
   ]
  },
  {
   "cell_type": "markdown",
   "id": "692bb718",
   "metadata": {},
   "source": [
    "## Decision Tree"
   ]
  },
  {
   "cell_type": "code",
   "execution_count": 11,
   "id": "ad4fd2cf",
   "metadata": {},
   "outputs": [],
   "source": [
    "from sklearn.tree import DecisionTreeClassifier"
   ]
  },
  {
   "cell_type": "code",
   "execution_count": 12,
   "id": "ee56ba56",
   "metadata": {},
   "outputs": [],
   "source": [
    "def fit_and_opt_DTClassifier(dt_model, X_train, X_test, y_train, y_test):\n",
    "    # Fit the model to the training data\n",
    "    dt_model.fit(X_train, y_train)\n",
    "\n",
    "    # Make predictions on the test data\n",
    "    y_pred = dt_model.predict(X_test)\n",
    "    \n",
    "    # Evaluate the model\n",
    "    print(\"Accuracy:\", accuracy_score(y_test, y_pred))"
   ]
  },
  {
   "cell_type": "markdown",
   "id": "7c74e175",
   "metadata": {},
   "source": [
    "#### No parameter optimization"
   ]
  },
  {
   "cell_type": "code",
   "execution_count": 93,
   "id": "7c0d692f",
   "metadata": {},
   "outputs": [
    {
     "name": "stdout",
     "output_type": "stream",
     "text": [
      "Accuracy: 0.9995040736804818\n",
      "CPU times: user 2.14 s, sys: 8 µs, total: 2.14 s\n",
      "Wall time: 2.14 s\n"
     ]
    }
   ],
   "source": [
    "%%time\n",
    "dt_model = DecisionTreeClassifier()\n",
    "fit_and_opt_DTClassifier(dt_model, X_train, X_test, y_train, y_test)"
   ]
  },
  {
   "cell_type": "markdown",
   "id": "07947d82",
   "metadata": {},
   "source": [
    "#### Optimizing `max_depth`\n",
    "Set to 3"
   ]
  },
  {
   "cell_type": "code",
   "execution_count": 94,
   "id": "9b72b3e1",
   "metadata": {},
   "outputs": [
    {
     "name": "stdout",
     "output_type": "stream",
     "text": [
      "Accuracy: 0.985446080663934\n",
      "CPU times: user 534 ms, sys: 20 ms, total: 554 ms\n",
      "Wall time: 551 ms\n"
     ]
    }
   ],
   "source": [
    "%%time\n",
    "dt_model = DecisionTreeClassifier(max_depth=3)\n",
    "fit_and_opt_DTClassifier(dt_model, X_train, X_test, y_train, y_test)"
   ]
  },
  {
   "cell_type": "markdown",
   "id": "8978b258",
   "metadata": {},
   "source": [
    "#### Optimizing `max_features`\n",
    "Set to sqrt(n_features)"
   ]
  },
  {
   "cell_type": "code",
   "execution_count": 96,
   "id": "d98693ce",
   "metadata": {},
   "outputs": [
    {
     "name": "stdout",
     "output_type": "stream",
     "text": [
      "Accuracy: 0.9993218966651485\n",
      "CPU times: user 300 ms, sys: 20 ms, total: 320 ms\n",
      "Wall time: 316 ms\n"
     ]
    }
   ],
   "source": [
    "%%time\n",
    "max_d = int(np.sqrt(len(data.columns)))\n",
    "\n",
    "dt_model = DecisionTreeClassifier(max_features=max_d)\n",
    "fit_and_opt_DTClassifier(dt_model, X_train, X_test, y_train, y_test)"
   ]
  },
  {
   "cell_type": "markdown",
   "id": "65f9ac95",
   "metadata": {},
   "source": [
    "## 2.)"
   ]
  },
  {
   "cell_type": "markdown",
   "id": "fc2a0528",
   "metadata": {},
   "source": [
    "Making an ensemble model containing at least 25 DecisionTreeClassifier() models because it reported the highest accuracy out of all classifiers."
   ]
  },
  {
   "cell_type": "code",
   "execution_count": 13,
   "id": "d8d272b0",
   "metadata": {},
   "outputs": [],
   "source": [
    "from sklearn.ensemble import RandomForestClassifier\n",
    "from sklearn.metrics import confusion_matrix"
   ]
  },
  {
   "cell_type": "code",
   "execution_count": 15,
   "id": "e539fe5e",
   "metadata": {},
   "outputs": [
    {
     "name": "stdout",
     "output_type": "stream",
     "text": [
      "Accuracy: 0.9996457669146298\n"
     ]
    }
   ],
   "source": [
    "# Create Random Forest classifier\n",
    "rf_classifier = RandomForestClassifier(n_estimators=25, random_state=42)\n",
    "\n",
    "# Train the model\n",
    "rf_classifier.fit(X_train, y_train)\n",
    "\n",
    "# Predict the response for test dataset\n",
    "y_pred = rf_classifier.predict(X_test)\n",
    "\n",
    "# Evaluate the model\n",
    "print(\"Accuracy:\", accuracy_score(y_test, y_pred))"
   ]
  },
  {
   "cell_type": "markdown",
   "id": "d28208f5",
   "metadata": {},
   "source": [
    "Identifying the top and bottom 10% data points in terms of uncertainty."
   ]
  },
  {
   "cell_type": "code",
   "execution_count": 16,
   "id": "09c003fa",
   "metadata": {},
   "outputs": [],
   "source": [
    "# Assuming clf is your trained classifier and X_test is your test data\n",
    "probs = rf_classifier.predict_proba(X_test)\n",
    "\n",
    "# Calculate uncertainty - here we use the margin between the top two probabilities\n",
    "uncertainties = np.sort(probs, axis=1)[:, -2:]  # Get the top two probabilities\n",
    "margins = uncertainties[:, 1] - uncertainties[:, 0]  # Calculate margins\n",
    "sorted_indices = np.argsort(margins)  # Sort indices by margin\n",
    "\n",
    "# Get top and bottom 10%\n",
    "top_10_percent_idx = sorted_indices[-int(0.1 * len(margins)):]\n",
    "bottom_10_percent_idx = sorted_indices[:int(0.1 * len(margins))]"
   ]
  },
  {
   "cell_type": "code",
   "execution_count": 17,
   "id": "49d4ac54",
   "metadata": {},
   "outputs": [
    {
     "name": "stdout",
     "output_type": "stream",
     "text": [
      "[29776 29788 29786 ... 33014 33085 98804]\n",
      "[48282 48281 68619 ... 69273 69272 69271]\n"
     ]
    }
   ],
   "source": [
    "print(top_10_percent_idx)\n",
    "print(bottom_10_percent_idx)"
   ]
  },
  {
   "cell_type": "markdown",
   "id": "fd985338",
   "metadata": {},
   "source": [
    "# 3.)"
   ]
  },
  {
   "cell_type": "code",
   "execution_count": 11,
   "id": "e12b1592",
   "metadata": {},
   "outputs": [],
   "source": [
    "from sklearn.feature_selection import SelectKBest, chi2, RFE\n",
    "from sklearn.tree import DecisionTreeClassifier"
   ]
  },
  {
   "cell_type": "markdown",
   "id": "73263016",
   "metadata": {},
   "source": [
    "#### Top 10 Features"
   ]
  },
  {
   "cell_type": "code",
   "execution_count": 12,
   "id": "b1115992",
   "metadata": {},
   "outputs": [
    {
     "name": "stdout",
     "output_type": "stream",
     "text": [
      "                        Feature         Score\n",
      "5                     dst_bytes  8.283615e+08\n",
      "4                     src_bytes  1.450596e+08\n",
      "23                    srv_count  9.291380e+07\n",
      "22                        count  6.147368e+07\n",
      "37         dst_host_serror_rate  3.070995e+07\n",
      "24                  serror_rate  2.823845e+07\n",
      "0                      duration  2.546861e+07\n",
      "32           dst_host_srv_count  2.532183e+07\n",
      "38     dst_host_srv_serror_rate  2.206405e+07\n",
      "35  dst_host_same_src_port_rate  1.763869e+07\n"
     ]
    }
   ],
   "source": [
    "bestfeatures = SelectKBest(score_func=chi2, k=10)\n",
    "fit = bestfeatures.fit(data, target)\n",
    "\n",
    "dfscores = pd.DataFrame(fit.scores_)\n",
    "dfcolumns = pd.DataFrame(data.columns)\n",
    "\n",
    "# Concatenate dataframes for better visualization\n",
    "featureScores = pd.concat([dfcolumns, dfscores], axis=1)\n",
    "featureScores.columns = ['Feature', 'Score']  # Naming the dataframe columns\n",
    "top_10_KBest = featureScores.nlargest(10, 'Score')\n",
    "print(top_10_KBest)  # Print 10 best features\n",
    "\n",
    "top_10_KBest = list(top_10_KBest['Feature'])"
   ]
  },
  {
   "cell_type": "code",
   "execution_count": 13,
   "id": "4871ddc9",
   "metadata": {},
   "outputs": [
    {
     "name": "stdout",
     "output_type": "stream",
     "text": [
      "Top 10 Selected Features:\n",
      " ['service', 'src_bytes', 'wrong_fragment', 'num_compromised', 'srv_count', 'same_srv_rate', 'dst_host_diff_srv_rate', 'dst_host_same_src_port_rate', 'dst_host_srv_diff_host_rate', 'dst_host_srv_serror_rate']\n"
     ]
    }
   ],
   "source": [
    "# Initialize the base classifier\n",
    "model = DecisionTreeClassifier()\n",
    "feature_names = data.columns\n",
    "\n",
    "# Initialize RFE with the model and specify the number of features\n",
    "rfe = RFE(estimator=model, n_features_to_select=10)\n",
    "\n",
    "# Fit RFE\n",
    "fit = rfe.fit(data, target)\n",
    "\n",
    "# Get the ranking of features and selected features\n",
    "ranking = fit.ranking_\n",
    "top_10_RFE = [feature_names[i] for i in range(len(feature_names)) if ranking[i] == 1]\n",
    "\n",
    "# Display selected feature names\n",
    "print(\"Top 10 Selected Features:\\n\", top_10_RFE)"
   ]
  },
  {
   "cell_type": "markdown",
   "id": "38f3c55d",
   "metadata": {},
   "source": [
    "#### Re-running models with top 10 features (KBest)"
   ]
  },
  {
   "cell_type": "code",
   "execution_count": 14,
   "id": "327a6281",
   "metadata": {},
   "outputs": [],
   "source": [
    "truncated_KBest_data, target = data[top_10_KBest], target\n",
    "X_train_KBest, X_test_KBest, y_train_KBest, y_test_KBest = train_test_split(truncated_KBest_data, target, test_size=0.2, random_state=42)"
   ]
  },
  {
   "cell_type": "markdown",
   "id": "65909aa4",
   "metadata": {},
   "source": [
    "##### Stochastic Gradient Descent"
   ]
  },
  {
   "cell_type": "code",
   "execution_count": 22,
   "id": "8dd7b5ed",
   "metadata": {},
   "outputs": [
    {
     "name": "stdout",
     "output_type": "stream",
     "text": [
      "Accuracy: 0.9832700774252315\n",
      "CPU times: user 59.4 s, sys: 231 ms, total: 59.6 s\n",
      "Wall time: 59.3 s\n"
     ]
    }
   ],
   "source": [
    "%%time\n",
    "# No parameter optimization\n",
    "sgd_clf = SGDClassifier(max_iter=1000, tol=1e-3)\n",
    "fit_and_opt_SGDClassifier(sgd_clf, X_train_KBest, X_test_KBest, y_train_KBest, y_test_KBest)"
   ]
  },
  {
   "cell_type": "code",
   "execution_count": 23,
   "id": "49af3ca8",
   "metadata": {},
   "outputs": [
    {
     "name": "stdout",
     "output_type": "stream",
     "text": [
      "Accuracy: 0.9841607206113051\n",
      "CPU times: user 48.7 s, sys: 512 ms, total: 49.2 s\n",
      "Wall time: 48.5 s\n"
     ]
    },
    {
     "name": "stderr",
     "output_type": "stream",
     "text": [
      "/home/lemaurkydd/.local/lib/python3.8/site-packages/sklearn/linear_model/_stochastic_gradient.py:705: ConvergenceWarning: Maximum number of iteration reached before convergence. Consider increasing max_iter to improve the fit.\n",
      "  warnings.warn(\n"
     ]
    }
   ],
   "source": [
    "%%time\n",
    "# Optimizing `max_iter` \n",
    "sgd_clf = SGDClassifier(max_iter=100, tol=1e-3)\n",
    "fit_and_opt_SGDClassifier(sgd_clf, X_train_KBest, X_test_KBest, y_train_KBest, y_test_KBest)"
   ]
  },
  {
   "cell_type": "code",
   "execution_count": 24,
   "id": "9adc0c96",
   "metadata": {},
   "outputs": [
    {
     "name": "stdout",
     "output_type": "stream",
     "text": [
      "Accuracy: 0.9781488791053085\n",
      "CPU times: user 54.6 s, sys: 481 ms, total: 55.1 s\n",
      "Wall time: 54.4 s\n"
     ]
    }
   ],
   "source": [
    "%%time\n",
    "# Optimizing `learning_rate` \n",
    "sgd_clf = SGDClassifier(max_iter=1000, tol=1e-3, learning_rate='optimal')\n",
    "fit_and_opt_SGDClassifier(sgd_clf, X_train_KBest, X_test_KBest, y_train_KBest, y_test_KBest)"
   ]
  },
  {
   "cell_type": "markdown",
   "id": "73d94960",
   "metadata": {},
   "source": [
    "##### Support Vector Machine"
   ]
  },
  {
   "cell_type": "code",
   "execution_count": null,
   "id": "25cb305e",
   "metadata": {},
   "outputs": [],
   "source": [
    "%%time\n",
    "# No parameter optimization\n",
    "svm_model = SVC(kernel='linear', decision_function_shape='ovo')\n",
    "fit_and_opt_SVMClassifier(svm_model, X_train_KBest, X_test_KBest, y_train_KBest, y_test_KBest)"
   ]
  },
  {
   "cell_type": "code",
   "execution_count": null,
   "id": "2bd63e6e",
   "metadata": {},
   "outputs": [],
   "source": [
    "%%time\n",
    "# Optimizing `kernel`\n",
    "svm_model = SVC(kernel='sigmoid', decision_function_shape='ovo')\n",
    "fit_and_opt_SVMClassifier(svm_model, X_train_KBest, X_test_KBest, y_train_KBest, y_test_KBest)"
   ]
  },
  {
   "cell_type": "code",
   "execution_count": null,
   "id": "ce50d022",
   "metadata": {},
   "outputs": [],
   "source": [
    "%%time\n",
    "# Optimizing `degree`\n",
    "svm_model = SVC(kernel='linear', decision_function_shape='ovo', degree=5)\n",
    "fit_and_opt_SVMClassifier(svm_model, X_train_KBest, X_test_KBest, y_train_KBest, y_test_KBest)"
   ]
  },
  {
   "cell_type": "markdown",
   "id": "d8670ed6",
   "metadata": {},
   "source": [
    "##### Decision Tree"
   ]
  },
  {
   "cell_type": "code",
   "execution_count": 25,
   "id": "2d4b7c6b",
   "metadata": {},
   "outputs": [
    {
     "name": "stdout",
     "output_type": "stream",
     "text": [
      "Accuracy: 0.9989980264156673\n",
      "CPU times: user 732 ms, sys: 38 µs, total: 732 ms\n",
      "Wall time: 727 ms\n"
     ]
    }
   ],
   "source": [
    "%%time\n",
    "# No parameter optimization\n",
    "dt_model = DecisionTreeClassifier()\n",
    "fit_and_opt_DTClassifier(dt_model, X_train_KBest, X_test_KBest, y_train_KBest, y_test_KBest)"
   ]
  },
  {
   "cell_type": "code",
   "execution_count": 26,
   "id": "c822526c",
   "metadata": {},
   "outputs": [
    {
     "name": "stdout",
     "output_type": "stream",
     "text": [
      "Accuracy: 0.981579879560751\n",
      "CPU times: user 261 ms, sys: 16 µs, total: 261 ms\n",
      "Wall time: 257 ms\n"
     ]
    }
   ],
   "source": [
    "%%time\n",
    "# Optimizing `max_depth`\n",
    "dt_model = DecisionTreeClassifier(max_depth=3)\n",
    "fit_and_opt_DTClassifier(dt_model, X_train_KBest, X_test_KBest, y_train_KBest, y_test_KBest)"
   ]
  },
  {
   "cell_type": "code",
   "execution_count": 27,
   "id": "f859eb11",
   "metadata": {},
   "outputs": [
    {
     "name": "stdout",
     "output_type": "stream",
     "text": [
      "Accuracy: 0.9988765750721117\n",
      "CPU times: user 150 ms, sys: 0 ns, total: 150 ms\n",
      "Wall time: 144 ms\n"
     ]
    }
   ],
   "source": [
    "%%time\n",
    "# Optimizing `max_features`\n",
    "max_d = int(np.sqrt(len(truncated_KBest_data.columns)))\n",
    "\n",
    "dt_model = DecisionTreeClassifier(max_features=max_d)\n",
    "fit_and_opt_DTClassifier(dt_model, X_train_KBest, X_test_KBest, y_train_KBest, y_test_KBest)"
   ]
  },
  {
   "cell_type": "markdown",
   "id": "532e22f1",
   "metadata": {},
   "source": [
    "#### Re-running models with top 10 features (RFE)"
   ]
  },
  {
   "cell_type": "code",
   "execution_count": 15,
   "id": "6096f4bf",
   "metadata": {},
   "outputs": [],
   "source": [
    "truncated_RFE_data, target = data[top_10_RFE], target\n",
    "X_train_RFE, X_test_RFE, y_train_RFE, y_test_RFE = train_test_split(truncated_RFE_data, target, test_size=0.2, random_state=42)"
   ]
  },
  {
   "cell_type": "markdown",
   "id": "a022d2dc",
   "metadata": {},
   "source": [
    "##### Stochastic Gradient Descent"
   ]
  },
  {
   "cell_type": "code",
   "execution_count": 29,
   "id": "ad96c07a",
   "metadata": {},
   "outputs": [
    {
     "name": "stdout",
     "output_type": "stream",
     "text": [
      "Accuracy: 0.9865492637012296\n",
      "CPU times: user 45.2 s, sys: 89.1 ms, total: 45.3 s\n",
      "Wall time: 45.1 s\n"
     ]
    }
   ],
   "source": [
    "%%time\n",
    "# No parameter optimization\n",
    "sgd_clf = SGDClassifier(max_iter=1000, tol=1e-3)\n",
    "fit_and_opt_SGDClassifier(sgd_clf, X_train_RFE, X_test_RFE, y_train_RFE, y_test_RFE)"
   ]
  },
  {
   "cell_type": "code",
   "execution_count": 30,
   "id": "0c6d86b5",
   "metadata": {},
   "outputs": [
    {
     "name": "stdout",
     "output_type": "stream",
     "text": [
      "Accuracy: 0.9897373614695613\n",
      "CPU times: user 32.3 s, sys: 508 ms, total: 32.8 s\n",
      "Wall time: 32.2 s\n"
     ]
    },
    {
     "name": "stderr",
     "output_type": "stream",
     "text": [
      "/home/lemaurkydd/.local/lib/python3.8/site-packages/sklearn/linear_model/_stochastic_gradient.py:705: ConvergenceWarning: Maximum number of iteration reached before convergence. Consider increasing max_iter to improve the fit.\n",
      "  warnings.warn(\n"
     ]
    }
   ],
   "source": [
    "%%time\n",
    "# Optimizing `max_iter` \n",
    "sgd_clf = SGDClassifier(max_iter=100, tol=1e-3)\n",
    "fit_and_opt_SGDClassifier(sgd_clf, X_train_RFE, X_test_RFE, y_train_RFE, y_test_RFE)"
   ]
  },
  {
   "cell_type": "code",
   "execution_count": 31,
   "id": "f5424593",
   "metadata": {},
   "outputs": [
    {
     "name": "stdout",
     "output_type": "stream",
     "text": [
      "Accuracy: 0.9920044532159303\n",
      "CPU times: user 50.8 s, sys: 518 ms, total: 51.3 s\n",
      "Wall time: 50.6 s\n"
     ]
    }
   ],
   "source": [
    "%%time\n",
    "# Optimizing `learning_rate` \n",
    "sgd_clf = SGDClassifier(max_iter=1000, tol=1e-3, learning_rate='optimal')\n",
    "fit_and_opt_SGDClassifier(sgd_clf, X_train_RFE, X_test_RFE, y_train_RFE, y_test_RFE)"
   ]
  },
  {
   "cell_type": "markdown",
   "id": "c47cebe7",
   "metadata": {},
   "source": [
    "##### Support Vector Machine"
   ]
  },
  {
   "cell_type": "code",
   "execution_count": null,
   "id": "19864fc3",
   "metadata": {},
   "outputs": [],
   "source": [
    "%%time\n",
    "# No parameter optimization\n",
    "svm_model = SVC(kernel='linear', decision_function_shape='ovo')\n",
    "fit_and_opt_SVMClassifier(svm_model, X_train_RFE, X_test_RFE, y_train_RFE, y_test_RFE)"
   ]
  },
  {
   "cell_type": "code",
   "execution_count": null,
   "id": "c7b978bb",
   "metadata": {},
   "outputs": [],
   "source": [
    "%%time\n",
    "# Optimizing `kernel`\n",
    "svm_model = SVC(kernel='sigmoid', decision_function_shape='ovo')\n",
    "fit_and_opt_SVMClassifier(svm_model, X_train_RFE, X_test_RFE, y_train_RFE, y_test_RFE)"
   ]
  },
  {
   "cell_type": "code",
   "execution_count": null,
   "id": "8f747bd2",
   "metadata": {},
   "outputs": [],
   "source": [
    "%%time\n",
    "# Optimizing `degree`\n",
    "svm_model = SVC(kernel='linear', decision_function_shape='ovo', degree=5)\n",
    "fit_and_opt_SVMClassifier(svm_model, X_train_RFE, X_test_RFE, y_train_RFE, y_test_RFE)"
   ]
  },
  {
   "cell_type": "markdown",
   "id": "eec82c32",
   "metadata": {},
   "source": [
    "##### Decision Tree"
   ]
  },
  {
   "cell_type": "code",
   "execution_count": 32,
   "id": "c63b73ca",
   "metadata": {},
   "outputs": [
    {
     "name": "stdout",
     "output_type": "stream",
     "text": [
      "Accuracy: 0.9994534689540003\n",
      "CPU times: user 1.13 s, sys: 421 ms, total: 1.55 s\n",
      "Wall time: 1.06 s\n"
     ]
    }
   ],
   "source": [
    "%%time\n",
    "# No parameter optimization\n",
    "dt_model = DecisionTreeClassifier()\n",
    "fit_and_opt_DTClassifier(dt_model, X_train_RFE, X_test_RFE, y_train_RFE, y_test_RFE)"
   ]
  },
  {
   "cell_type": "code",
   "execution_count": 33,
   "id": "5b5cab6b",
   "metadata": {},
   "outputs": [
    {
     "name": "stdout",
     "output_type": "stream",
     "text": [
      "Accuracy: 0.985446080663934\n",
      "CPU times: user 625 ms, sys: 149 µs, total: 625 ms\n",
      "Wall time: 620 ms\n"
     ]
    }
   ],
   "source": [
    "%%time\n",
    "# Optimizing `max_depth`\n",
    "dt_model = DecisionTreeClassifier(max_depth=3)\n",
    "fit_and_opt_DTClassifier(dt_model, X_train_RFE, X_test_RFE, y_train_RFE, y_test_RFE)"
   ]
  },
  {
   "cell_type": "code",
   "execution_count": 34,
   "id": "83f20fa2",
   "metadata": {},
   "outputs": [
    {
     "name": "stdout",
     "output_type": "stream",
     "text": [
      "Accuracy: 0.9993826223369263\n",
      "CPU times: user 392 ms, sys: 376 µs, total: 392 ms\n",
      "Wall time: 388 ms\n"
     ]
    }
   ],
   "source": [
    "%%time\n",
    "# Optimizing `max_features`\n",
    "max_d = int(np.sqrt(len(truncated_RFE_data.columns)))\n",
    "\n",
    "dt_model = DecisionTreeClassifier(max_features=max_d)\n",
    "fit_and_opt_DTClassifier(dt_model, X_train_RFE, X_test_RFE, y_train_RFE, y_test_RFE)"
   ]
  },
  {
   "cell_type": "markdown",
   "id": "2813e084",
   "metadata": {},
   "source": [
    "# 4.)"
   ]
  },
  {
   "cell_type": "code",
   "execution_count": 25,
   "id": "52f9ed1c",
   "metadata": {},
   "outputs": [],
   "source": [
    "from sklearn.datasets import load_iris\n",
    "from sklearn.cluster import KMeans, AgglomerativeClustering, DBSCAN\n",
    "from sklearn.metrics import silhouette_score\n",
    "from sklearn.metrics import adjusted_rand_score, normalized_mutual_info_score\n",
    "from sklearn.decomposition import PCA"
   ]
  },
  {
   "cell_type": "code",
   "execution_count": 22,
   "id": "ad5ed29d",
   "metadata": {},
   "outputs": [],
   "source": [
    "pca = PCA(n_components=0.95)  # Retain 95% of variance\n",
    "X_train_KBest_reduced = pca.fit_transform(X_train_KBest)\n",
    "X_train_RFE_reduced = pca.fit_transform(X_train_RFE)"
   ]
  },
  {
   "cell_type": "markdown",
   "id": "4ba3117a",
   "metadata": {},
   "source": [
    "#### Clustering models with top 10 features (KBest)"
   ]
  },
  {
   "cell_type": "code",
   "execution_count": 38,
   "id": "5b01515a",
   "metadata": {},
   "outputs": [
    {
     "name": "stdout",
     "output_type": "stream",
     "text": [
      "K-Means ARI: 0.7738611167423556, NMI: 0.6915610010698197\n",
      "CPU times: user 10.3 s, sys: 3.49 s, total: 13.8 s\n",
      "Wall time: 2.01 s\n"
     ]
    }
   ],
   "source": [
    "%%time\n",
    "kmeans = KMeans(n_clusters=3)\n",
    "kmeans_labels = kmeans.fit_predict(X_train_KBest)\n",
    "\n",
    "kmeans_ari = adjusted_rand_score(y_train_KBest, kmeans_labels)\n",
    "kmeans_nmi = normalized_mutual_info_score(y_train_KBest, kmeans_labels)\n",
    "\n",
    "print(f\"K-Means ARI: {kmeans_ari}, NMI: {kmeans_nmi}\")"
   ]
  },
  {
   "cell_type": "code",
   "execution_count": null,
   "id": "017459a8",
   "metadata": {},
   "outputs": [],
   "source": [
    "# NMI has a fairly good score representing some clusters were found but the ARI score is bad. Therefore no clear clusters were found"
   ]
  },
  {
   "cell_type": "code",
   "execution_count": 26,
   "id": "c0242053",
   "metadata": {
    "collapsed": true
   },
   "outputs": [
    {
     "ename": "MemoryError",
     "evalue": "Unable to allocate 582. GiB for an array with shape (78097645720,) and data type float64",
     "output_type": "error",
     "traceback": [
      "\u001b[0;31m---------------------------------------------------------------------------\u001b[0m",
      "\u001b[0;31mMemoryError\u001b[0m                               Traceback (most recent call last)",
      "File \u001b[0;32m<timed exec>:2\u001b[0m, in \u001b[0;36m<module>\u001b[0;34m\u001b[0m\n",
      "File \u001b[0;32m~/.local/lib/python3.8/site-packages/sklearn/cluster/_agglomerative.py:1051\u001b[0m, in \u001b[0;36mAgglomerativeClustering.fit_predict\u001b[0;34m(self, X, y)\u001b[0m\n\u001b[1;32m   1030\u001b[0m \u001b[38;5;28;01mdef\u001b[39;00m \u001b[38;5;21mfit_predict\u001b[39m(\u001b[38;5;28mself\u001b[39m, X, y\u001b[38;5;241m=\u001b[39m\u001b[38;5;28;01mNone\u001b[39;00m):\n\u001b[1;32m   1031\u001b[0m \u001b[38;5;250m    \u001b[39m\u001b[38;5;124;03m\"\"\"Fit and return the result of each sample's clustering assignment.\u001b[39;00m\n\u001b[1;32m   1032\u001b[0m \n\u001b[1;32m   1033\u001b[0m \u001b[38;5;124;03m    In addition to fitting, this method also return the result of the\u001b[39;00m\n\u001b[0;32m   (...)\u001b[0m\n\u001b[1;32m   1049\u001b[0m \u001b[38;5;124;03m        Cluster labels.\u001b[39;00m\n\u001b[1;32m   1050\u001b[0m \u001b[38;5;124;03m    \"\"\"\u001b[39;00m\n\u001b[0;32m-> 1051\u001b[0m     \u001b[38;5;28;01mreturn\u001b[39;00m \u001b[38;5;28;43msuper\u001b[39;49m\u001b[43m(\u001b[49m\u001b[43m)\u001b[49m\u001b[38;5;241;43m.\u001b[39;49m\u001b[43mfit_predict\u001b[49m\u001b[43m(\u001b[49m\u001b[43mX\u001b[49m\u001b[43m,\u001b[49m\u001b[43m \u001b[49m\u001b[43my\u001b[49m\u001b[43m)\u001b[49m\n",
      "File \u001b[0;32m~/.local/lib/python3.8/site-packages/sklearn/base.py:751\u001b[0m, in \u001b[0;36mClusterMixin.fit_predict\u001b[0;34m(self, X, y)\u001b[0m\n\u001b[1;32m    733\u001b[0m \u001b[38;5;250m\u001b[39m\u001b[38;5;124;03m\"\"\"\u001b[39;00m\n\u001b[1;32m    734\u001b[0m \u001b[38;5;124;03mPerform clustering on `X` and returns cluster labels.\u001b[39;00m\n\u001b[1;32m    735\u001b[0m \n\u001b[0;32m   (...)\u001b[0m\n\u001b[1;32m    747\u001b[0m \u001b[38;5;124;03m    Cluster labels.\u001b[39;00m\n\u001b[1;32m    748\u001b[0m \u001b[38;5;124;03m\"\"\"\u001b[39;00m\n\u001b[1;32m    749\u001b[0m \u001b[38;5;66;03m# non-optimized default implementation; override when a better\u001b[39;00m\n\u001b[1;32m    750\u001b[0m \u001b[38;5;66;03m# method is possible for a given clustering algorithm\u001b[39;00m\n\u001b[0;32m--> 751\u001b[0m \u001b[38;5;28;43mself\u001b[39;49m\u001b[38;5;241;43m.\u001b[39;49m\u001b[43mfit\u001b[49m\u001b[43m(\u001b[49m\u001b[43mX\u001b[49m\u001b[43m)\u001b[49m\n\u001b[1;32m    752\u001b[0m \u001b[38;5;28;01mreturn\u001b[39;00m \u001b[38;5;28mself\u001b[39m\u001b[38;5;241m.\u001b[39mlabels_\n",
      "File \u001b[0;32m~/.local/lib/python3.8/site-packages/sklearn/cluster/_agglomerative.py:915\u001b[0m, in \u001b[0;36mAgglomerativeClustering.fit\u001b[0;34m(self, X, y)\u001b[0m\n\u001b[1;32m    897\u001b[0m \u001b[38;5;250m\u001b[39m\u001b[38;5;124;03m\"\"\"Fit the hierarchical clustering from features, or distance matrix.\u001b[39;00m\n\u001b[1;32m    898\u001b[0m \n\u001b[1;32m    899\u001b[0m \u001b[38;5;124;03mParameters\u001b[39;00m\n\u001b[0;32m   (...)\u001b[0m\n\u001b[1;32m    912\u001b[0m \u001b[38;5;124;03m    Returns the fitted instance.\u001b[39;00m\n\u001b[1;32m    913\u001b[0m \u001b[38;5;124;03m\"\"\"\u001b[39;00m\n\u001b[1;32m    914\u001b[0m X \u001b[38;5;241m=\u001b[39m \u001b[38;5;28mself\u001b[39m\u001b[38;5;241m.\u001b[39m_validate_data(X, ensure_min_samples\u001b[38;5;241m=\u001b[39m\u001b[38;5;241m2\u001b[39m)\n\u001b[0;32m--> 915\u001b[0m \u001b[38;5;28;01mreturn\u001b[39;00m \u001b[38;5;28;43mself\u001b[39;49m\u001b[38;5;241;43m.\u001b[39;49m\u001b[43m_fit\u001b[49m\u001b[43m(\u001b[49m\u001b[43mX\u001b[49m\u001b[43m)\u001b[49m\n",
      "File \u001b[0;32m~/.local/lib/python3.8/site-packages/sklearn/cluster/_agglomerative.py:998\u001b[0m, in \u001b[0;36mAgglomerativeClustering._fit\u001b[0;34m(self, X)\u001b[0m\n\u001b[1;32m    994\u001b[0m distance_threshold \u001b[38;5;241m=\u001b[39m \u001b[38;5;28mself\u001b[39m\u001b[38;5;241m.\u001b[39mdistance_threshold\n\u001b[1;32m    996\u001b[0m return_distance \u001b[38;5;241m=\u001b[39m (distance_threshold \u001b[38;5;129;01mis\u001b[39;00m \u001b[38;5;129;01mnot\u001b[39;00m \u001b[38;5;28;01mNone\u001b[39;00m) \u001b[38;5;129;01mor\u001b[39;00m \u001b[38;5;28mself\u001b[39m\u001b[38;5;241m.\u001b[39mcompute_distances\n\u001b[0;32m--> 998\u001b[0m out \u001b[38;5;241m=\u001b[39m \u001b[43mmemory\u001b[49m\u001b[38;5;241;43m.\u001b[39;49m\u001b[43mcache\u001b[49m\u001b[43m(\u001b[49m\u001b[43mtree_builder\u001b[49m\u001b[43m)\u001b[49m\u001b[43m(\u001b[49m\n\u001b[1;32m    999\u001b[0m \u001b[43m    \u001b[49m\u001b[43mX\u001b[49m\u001b[43m,\u001b[49m\n\u001b[1;32m   1000\u001b[0m \u001b[43m    \u001b[49m\u001b[43mconnectivity\u001b[49m\u001b[38;5;241;43m=\u001b[39;49m\u001b[43mconnectivity\u001b[49m\u001b[43m,\u001b[49m\n\u001b[1;32m   1001\u001b[0m \u001b[43m    \u001b[49m\u001b[43mn_clusters\u001b[49m\u001b[38;5;241;43m=\u001b[39;49m\u001b[43mn_clusters\u001b[49m\u001b[43m,\u001b[49m\n\u001b[1;32m   1002\u001b[0m \u001b[43m    \u001b[49m\u001b[43mreturn_distance\u001b[49m\u001b[38;5;241;43m=\u001b[39;49m\u001b[43mreturn_distance\u001b[49m\u001b[43m,\u001b[49m\n\u001b[1;32m   1003\u001b[0m \u001b[43m    \u001b[49m\u001b[38;5;241;43m*\u001b[39;49m\u001b[38;5;241;43m*\u001b[39;49m\u001b[43mkwargs\u001b[49m\u001b[43m,\u001b[49m\n\u001b[1;32m   1004\u001b[0m \u001b[43m\u001b[49m\u001b[43m)\u001b[49m\n\u001b[1;32m   1005\u001b[0m (\u001b[38;5;28mself\u001b[39m\u001b[38;5;241m.\u001b[39mchildren_, \u001b[38;5;28mself\u001b[39m\u001b[38;5;241m.\u001b[39mn_connected_components_, \u001b[38;5;28mself\u001b[39m\u001b[38;5;241m.\u001b[39mn_leaves_, parents) \u001b[38;5;241m=\u001b[39m out[\n\u001b[1;32m   1006\u001b[0m     :\u001b[38;5;241m4\u001b[39m\n\u001b[1;32m   1007\u001b[0m ]\n\u001b[1;32m   1009\u001b[0m \u001b[38;5;28;01mif\u001b[39;00m return_distance:\n",
      "File \u001b[0;32m~/.local/lib/python3.8/site-packages/joblib/memory.py:349\u001b[0m, in \u001b[0;36mNotMemorizedFunc.__call__\u001b[0;34m(self, *args, **kwargs)\u001b[0m\n\u001b[1;32m    348\u001b[0m \u001b[38;5;28;01mdef\u001b[39;00m \u001b[38;5;21m__call__\u001b[39m(\u001b[38;5;28mself\u001b[39m, \u001b[38;5;241m*\u001b[39margs, \u001b[38;5;241m*\u001b[39m\u001b[38;5;241m*\u001b[39mkwargs):\n\u001b[0;32m--> 349\u001b[0m     \u001b[38;5;28;01mreturn\u001b[39;00m \u001b[38;5;28;43mself\u001b[39;49m\u001b[38;5;241;43m.\u001b[39;49m\u001b[43mfunc\u001b[49m\u001b[43m(\u001b[49m\u001b[38;5;241;43m*\u001b[39;49m\u001b[43margs\u001b[49m\u001b[43m,\u001b[49m\u001b[43m \u001b[49m\u001b[38;5;241;43m*\u001b[39;49m\u001b[38;5;241;43m*\u001b[39;49m\u001b[43mkwargs\u001b[49m\u001b[43m)\u001b[49m\n",
      "File \u001b[0;32m~/.local/lib/python3.8/site-packages/sklearn/cluster/_agglomerative.py:662\u001b[0m, in \u001b[0;36m_complete_linkage\u001b[0;34m(*args, **kwargs)\u001b[0m\n\u001b[1;32m    660\u001b[0m \u001b[38;5;28;01mdef\u001b[39;00m \u001b[38;5;21m_complete_linkage\u001b[39m(\u001b[38;5;241m*\u001b[39margs, \u001b[38;5;241m*\u001b[39m\u001b[38;5;241m*\u001b[39mkwargs):\n\u001b[1;32m    661\u001b[0m     kwargs[\u001b[38;5;124m\"\u001b[39m\u001b[38;5;124mlinkage\u001b[39m\u001b[38;5;124m\"\u001b[39m] \u001b[38;5;241m=\u001b[39m \u001b[38;5;124m\"\u001b[39m\u001b[38;5;124mcomplete\u001b[39m\u001b[38;5;124m\"\u001b[39m\n\u001b[0;32m--> 662\u001b[0m     \u001b[38;5;28;01mreturn\u001b[39;00m \u001b[43mlinkage_tree\u001b[49m\u001b[43m(\u001b[49m\u001b[38;5;241;43m*\u001b[39;49m\u001b[43margs\u001b[49m\u001b[43m,\u001b[49m\u001b[43m \u001b[49m\u001b[38;5;241;43m*\u001b[39;49m\u001b[38;5;241;43m*\u001b[39;49m\u001b[43mkwargs\u001b[49m\u001b[43m)\u001b[49m\n",
      "File \u001b[0;32m~/.local/lib/python3.8/site-packages/sklearn/cluster/_agglomerative.py:541\u001b[0m, in \u001b[0;36mlinkage_tree\u001b[0;34m(X, connectivity, n_clusters, linkage, affinity, return_distance)\u001b[0m\n\u001b[1;32m    539\u001b[0m     out \u001b[38;5;241m=\u001b[39m _hierarchical\u001b[38;5;241m.\u001b[39msingle_linkage_label(mst)\n\u001b[1;32m    540\u001b[0m \u001b[38;5;28;01melse\u001b[39;00m:\n\u001b[0;32m--> 541\u001b[0m     out \u001b[38;5;241m=\u001b[39m \u001b[43mhierarchy\u001b[49m\u001b[38;5;241;43m.\u001b[39;49m\u001b[43mlinkage\u001b[49m\u001b[43m(\u001b[49m\u001b[43mX\u001b[49m\u001b[43m,\u001b[49m\u001b[43m \u001b[49m\u001b[43mmethod\u001b[49m\u001b[38;5;241;43m=\u001b[39;49m\u001b[43mlinkage\u001b[49m\u001b[43m,\u001b[49m\u001b[43m \u001b[49m\u001b[43mmetric\u001b[49m\u001b[38;5;241;43m=\u001b[39;49m\u001b[43maffinity\u001b[49m\u001b[43m)\u001b[49m\n\u001b[1;32m    542\u001b[0m children_ \u001b[38;5;241m=\u001b[39m out[:, :\u001b[38;5;241m2\u001b[39m]\u001b[38;5;241m.\u001b[39mastype(\u001b[38;5;28mint\u001b[39m, copy\u001b[38;5;241m=\u001b[39m\u001b[38;5;28;01mFalse\u001b[39;00m)\n\u001b[1;32m    544\u001b[0m \u001b[38;5;28;01mif\u001b[39;00m return_distance:\n",
      "File \u001b[0;32m~/.local/lib/python3.8/site-packages/scipy/cluster/hierarchy.py:1060\u001b[0m, in \u001b[0;36mlinkage\u001b[0;34m(y, method, metric, optimal_ordering)\u001b[0m\n\u001b[1;32m   1056\u001b[0m         \u001b[38;5;28;01mif\u001b[39;00m np\u001b[38;5;241m.\u001b[39mall(y \u001b[38;5;241m>\u001b[39m\u001b[38;5;241m=\u001b[39m \u001b[38;5;241m0\u001b[39m) \u001b[38;5;129;01mand\u001b[39;00m np\u001b[38;5;241m.\u001b[39mallclose(y, y\u001b[38;5;241m.\u001b[39mT):\n\u001b[1;32m   1057\u001b[0m             _warning(\u001b[38;5;124m'\u001b[39m\u001b[38;5;124mThe symmetric non-negative hollow observation \u001b[39m\u001b[38;5;124m'\u001b[39m\n\u001b[1;32m   1058\u001b[0m                      \u001b[38;5;124m'\u001b[39m\u001b[38;5;124mmatrix looks suspiciously like an uncondensed \u001b[39m\u001b[38;5;124m'\u001b[39m\n\u001b[1;32m   1059\u001b[0m                      \u001b[38;5;124m'\u001b[39m\u001b[38;5;124mdistance matrix\u001b[39m\u001b[38;5;124m'\u001b[39m)\n\u001b[0;32m-> 1060\u001b[0m     y \u001b[38;5;241m=\u001b[39m \u001b[43mdistance\u001b[49m\u001b[38;5;241;43m.\u001b[39;49m\u001b[43mpdist\u001b[49m\u001b[43m(\u001b[49m\u001b[43my\u001b[49m\u001b[43m,\u001b[49m\u001b[43m \u001b[49m\u001b[43mmetric\u001b[49m\u001b[43m)\u001b[49m\n\u001b[1;32m   1061\u001b[0m \u001b[38;5;28;01melse\u001b[39;00m:\n\u001b[1;32m   1062\u001b[0m     \u001b[38;5;28;01mraise\u001b[39;00m \u001b[38;5;167;01mValueError\u001b[39;00m(\u001b[38;5;124m\"\u001b[39m\u001b[38;5;124m`y` must be 1 or 2 dimensional.\u001b[39m\u001b[38;5;124m\"\u001b[39m)\n",
      "File \u001b[0;32m~/.local/lib/python3.8/site-packages/scipy/spatial/distance.py:2251\u001b[0m, in \u001b[0;36mpdist\u001b[0;34m(X, metric, out, **kwargs)\u001b[0m\n\u001b[1;32m   2249\u001b[0m \u001b[38;5;28;01mif\u001b[39;00m metric_info \u001b[38;5;129;01mis\u001b[39;00m \u001b[38;5;129;01mnot\u001b[39;00m \u001b[38;5;28;01mNone\u001b[39;00m:\n\u001b[1;32m   2250\u001b[0m     pdist_fn \u001b[38;5;241m=\u001b[39m metric_info\u001b[38;5;241m.\u001b[39mpdist_func\n\u001b[0;32m-> 2251\u001b[0m     \u001b[38;5;28;01mreturn\u001b[39;00m \u001b[43mpdist_fn\u001b[49m\u001b[43m(\u001b[49m\u001b[43mX\u001b[49m\u001b[43m,\u001b[49m\u001b[43m \u001b[49m\u001b[43mout\u001b[49m\u001b[38;5;241;43m=\u001b[39;49m\u001b[43mout\u001b[49m\u001b[43m,\u001b[49m\u001b[43m \u001b[49m\u001b[38;5;241;43m*\u001b[39;49m\u001b[38;5;241;43m*\u001b[39;49m\u001b[43mkwargs\u001b[49m\u001b[43m)\u001b[49m\n\u001b[1;32m   2252\u001b[0m \u001b[38;5;28;01melif\u001b[39;00m mstr\u001b[38;5;241m.\u001b[39mstartswith(\u001b[38;5;124m\"\u001b[39m\u001b[38;5;124mtest_\u001b[39m\u001b[38;5;124m\"\u001b[39m):\n\u001b[1;32m   2253\u001b[0m     metric_info \u001b[38;5;241m=\u001b[39m _TEST_METRICS\u001b[38;5;241m.\u001b[39mget(mstr, \u001b[38;5;28;01mNone\u001b[39;00m)\n",
      "\u001b[0;31mMemoryError\u001b[0m: Unable to allocate 582. GiB for an array with shape (78097645720,) and data type float64"
     ]
    }
   ],
   "source": [
    "%%time\n",
    "agglo = AgglomerativeClustering(n_clusters=3, linkage='complete')\n",
    "agglo_labels = agglo.fit_predict(X_train_KBest_reduced)\n",
    "\n",
    "agglo_ari = adjusted_rand_score(y_train_KBest, agglo_labels)\n",
    "agglo_nmi = normalized_mutual_info_score(y_train_KBest, agglo_labels)\n",
    "\n",
    "print(f\"Agglomerative ARI: {agglo_ari}, NMI: {agglo_nmi}\")"
   ]
  },
  {
   "cell_type": "code",
   "execution_count": null,
   "id": "6fc9d758",
   "metadata": {},
   "outputs": [],
   "source": [
    "%%time\n",
    "dbscan = DBSCAN(eps=0.5)  # eps is the maximum distance between two samples for one to be considered as in the neighborhood of the other\n",
    "dbscan_labels = dbscan.fit_predict(X_train_KBest_reduced)\n",
    "\n",
    "if np.unique(dbscan_labels).size > 1:\n",
    "    dbscan_ari = adjusted_rand_score(y_train_KBest, dbscan_labels)\n",
    "    dbscan_nmi = normalized_mutual_info_score(y_train_KBest, dbscan_labels)\n",
    "else:\n",
    "    dbscan_ari, dbscan_nmi = 0, 0\n",
    "    \n",
    "print(f\"DBSCAN ARI: {dbscan_ari}, NMI: {dbscan_nmi}\")"
   ]
  },
  {
   "cell_type": "markdown",
   "id": "44146410",
   "metadata": {},
   "source": [
    "#### Clustering models with top 10 features (RFE)"
   ]
  },
  {
   "cell_type": "code",
   "execution_count": 17,
   "id": "bc9c30e8",
   "metadata": {},
   "outputs": [
    {
     "name": "stdout",
     "output_type": "stream",
     "text": [
      "K-Means ARI: 0.7728261186781732, NMI: 0.7087606844063691\n"
     ]
    }
   ],
   "source": [
    "kmeans = KMeans(n_clusters=3)\n",
    "kmeans_labels = kmeans.fit_predict(X_train_RFE)\n",
    "\n",
    "kmeans_ari = adjusted_rand_score(y_train_RFE, kmeans_labels)\n",
    "kmeans_nmi = normalized_mutual_info_score(y_train_RFE, kmeans_labels)\n",
    "\n",
    "print(f\"K-Means ARI: {kmeans_ari}, NMI: {kmeans_nmi}\")"
   ]
  },
  {
   "cell_type": "code",
   "execution_count": null,
   "id": "d3441f5b",
   "metadata": {},
   "outputs": [],
   "source": [
    "# NMI has a fairly good score representing some clusters were found but the ARI score is bad. Therefore no clear clusters were found"
   ]
  },
  {
   "cell_type": "code",
   "execution_count": 18,
   "id": "0ad9ca14",
   "metadata": {
    "collapsed": true
   },
   "outputs": [
    {
     "ename": "MemoryError",
     "evalue": "Unable to allocate 582. GiB for an array with shape (78097645720,) and data type float64",
     "output_type": "error",
     "traceback": [
      "\u001b[0;31m---------------------------------------------------------------------------\u001b[0m",
      "\u001b[0;31mMemoryError\u001b[0m                               Traceback (most recent call last)",
      "Input \u001b[0;32mIn [18]\u001b[0m, in \u001b[0;36m<module>\u001b[0;34m\u001b[0m\n\u001b[1;32m      1\u001b[0m agglo \u001b[38;5;241m=\u001b[39m AgglomerativeClustering(n_clusters\u001b[38;5;241m=\u001b[39m\u001b[38;5;241m3\u001b[39m)\n\u001b[0;32m----> 2\u001b[0m agglo_labels \u001b[38;5;241m=\u001b[39m \u001b[43magglo\u001b[49m\u001b[38;5;241;43m.\u001b[39;49m\u001b[43mfit_predict\u001b[49m\u001b[43m(\u001b[49m\u001b[43mX_train_RFE\u001b[49m\u001b[43m)\u001b[49m\n\u001b[1;32m      4\u001b[0m agglo_ari \u001b[38;5;241m=\u001b[39m adjusted_rand_score(y_train_RFE, agglo_labels)\n\u001b[1;32m      5\u001b[0m agglo_nmi \u001b[38;5;241m=\u001b[39m normalized_mutual_info_score(y_train_RFE, agglo_labels)\n",
      "File \u001b[0;32m~/.local/lib/python3.8/site-packages/sklearn/cluster/_agglomerative.py:1051\u001b[0m, in \u001b[0;36mAgglomerativeClustering.fit_predict\u001b[0;34m(self, X, y)\u001b[0m\n\u001b[1;32m   1030\u001b[0m \u001b[38;5;28;01mdef\u001b[39;00m \u001b[38;5;21mfit_predict\u001b[39m(\u001b[38;5;28mself\u001b[39m, X, y\u001b[38;5;241m=\u001b[39m\u001b[38;5;28;01mNone\u001b[39;00m):\n\u001b[1;32m   1031\u001b[0m \u001b[38;5;250m    \u001b[39m\u001b[38;5;124;03m\"\"\"Fit and return the result of each sample's clustering assignment.\u001b[39;00m\n\u001b[1;32m   1032\u001b[0m \n\u001b[1;32m   1033\u001b[0m \u001b[38;5;124;03m    In addition to fitting, this method also return the result of the\u001b[39;00m\n\u001b[0;32m   (...)\u001b[0m\n\u001b[1;32m   1049\u001b[0m \u001b[38;5;124;03m        Cluster labels.\u001b[39;00m\n\u001b[1;32m   1050\u001b[0m \u001b[38;5;124;03m    \"\"\"\u001b[39;00m\n\u001b[0;32m-> 1051\u001b[0m     \u001b[38;5;28;01mreturn\u001b[39;00m \u001b[38;5;28;43msuper\u001b[39;49m\u001b[43m(\u001b[49m\u001b[43m)\u001b[49m\u001b[38;5;241;43m.\u001b[39;49m\u001b[43mfit_predict\u001b[49m\u001b[43m(\u001b[49m\u001b[43mX\u001b[49m\u001b[43m,\u001b[49m\u001b[43m \u001b[49m\u001b[43my\u001b[49m\u001b[43m)\u001b[49m\n",
      "File \u001b[0;32m~/.local/lib/python3.8/site-packages/sklearn/base.py:751\u001b[0m, in \u001b[0;36mClusterMixin.fit_predict\u001b[0;34m(self, X, y)\u001b[0m\n\u001b[1;32m    733\u001b[0m \u001b[38;5;250m\u001b[39m\u001b[38;5;124;03m\"\"\"\u001b[39;00m\n\u001b[1;32m    734\u001b[0m \u001b[38;5;124;03mPerform clustering on `X` and returns cluster labels.\u001b[39;00m\n\u001b[1;32m    735\u001b[0m \n\u001b[0;32m   (...)\u001b[0m\n\u001b[1;32m    747\u001b[0m \u001b[38;5;124;03m    Cluster labels.\u001b[39;00m\n\u001b[1;32m    748\u001b[0m \u001b[38;5;124;03m\"\"\"\u001b[39;00m\n\u001b[1;32m    749\u001b[0m \u001b[38;5;66;03m# non-optimized default implementation; override when a better\u001b[39;00m\n\u001b[1;32m    750\u001b[0m \u001b[38;5;66;03m# method is possible for a given clustering algorithm\u001b[39;00m\n\u001b[0;32m--> 751\u001b[0m \u001b[38;5;28;43mself\u001b[39;49m\u001b[38;5;241;43m.\u001b[39;49m\u001b[43mfit\u001b[49m\u001b[43m(\u001b[49m\u001b[43mX\u001b[49m\u001b[43m)\u001b[49m\n\u001b[1;32m    752\u001b[0m \u001b[38;5;28;01mreturn\u001b[39;00m \u001b[38;5;28mself\u001b[39m\u001b[38;5;241m.\u001b[39mlabels_\n",
      "File \u001b[0;32m~/.local/lib/python3.8/site-packages/sklearn/cluster/_agglomerative.py:915\u001b[0m, in \u001b[0;36mAgglomerativeClustering.fit\u001b[0;34m(self, X, y)\u001b[0m\n\u001b[1;32m    897\u001b[0m \u001b[38;5;250m\u001b[39m\u001b[38;5;124;03m\"\"\"Fit the hierarchical clustering from features, or distance matrix.\u001b[39;00m\n\u001b[1;32m    898\u001b[0m \n\u001b[1;32m    899\u001b[0m \u001b[38;5;124;03mParameters\u001b[39;00m\n\u001b[0;32m   (...)\u001b[0m\n\u001b[1;32m    912\u001b[0m \u001b[38;5;124;03m    Returns the fitted instance.\u001b[39;00m\n\u001b[1;32m    913\u001b[0m \u001b[38;5;124;03m\"\"\"\u001b[39;00m\n\u001b[1;32m    914\u001b[0m X \u001b[38;5;241m=\u001b[39m \u001b[38;5;28mself\u001b[39m\u001b[38;5;241m.\u001b[39m_validate_data(X, ensure_min_samples\u001b[38;5;241m=\u001b[39m\u001b[38;5;241m2\u001b[39m)\n\u001b[0;32m--> 915\u001b[0m \u001b[38;5;28;01mreturn\u001b[39;00m \u001b[38;5;28;43mself\u001b[39;49m\u001b[38;5;241;43m.\u001b[39;49m\u001b[43m_fit\u001b[49m\u001b[43m(\u001b[49m\u001b[43mX\u001b[49m\u001b[43m)\u001b[49m\n",
      "File \u001b[0;32m~/.local/lib/python3.8/site-packages/sklearn/cluster/_agglomerative.py:998\u001b[0m, in \u001b[0;36mAgglomerativeClustering._fit\u001b[0;34m(self, X)\u001b[0m\n\u001b[1;32m    994\u001b[0m distance_threshold \u001b[38;5;241m=\u001b[39m \u001b[38;5;28mself\u001b[39m\u001b[38;5;241m.\u001b[39mdistance_threshold\n\u001b[1;32m    996\u001b[0m return_distance \u001b[38;5;241m=\u001b[39m (distance_threshold \u001b[38;5;129;01mis\u001b[39;00m \u001b[38;5;129;01mnot\u001b[39;00m \u001b[38;5;28;01mNone\u001b[39;00m) \u001b[38;5;129;01mor\u001b[39;00m \u001b[38;5;28mself\u001b[39m\u001b[38;5;241m.\u001b[39mcompute_distances\n\u001b[0;32m--> 998\u001b[0m out \u001b[38;5;241m=\u001b[39m \u001b[43mmemory\u001b[49m\u001b[38;5;241;43m.\u001b[39;49m\u001b[43mcache\u001b[49m\u001b[43m(\u001b[49m\u001b[43mtree_builder\u001b[49m\u001b[43m)\u001b[49m\u001b[43m(\u001b[49m\n\u001b[1;32m    999\u001b[0m \u001b[43m    \u001b[49m\u001b[43mX\u001b[49m\u001b[43m,\u001b[49m\n\u001b[1;32m   1000\u001b[0m \u001b[43m    \u001b[49m\u001b[43mconnectivity\u001b[49m\u001b[38;5;241;43m=\u001b[39;49m\u001b[43mconnectivity\u001b[49m\u001b[43m,\u001b[49m\n\u001b[1;32m   1001\u001b[0m \u001b[43m    \u001b[49m\u001b[43mn_clusters\u001b[49m\u001b[38;5;241;43m=\u001b[39;49m\u001b[43mn_clusters\u001b[49m\u001b[43m,\u001b[49m\n\u001b[1;32m   1002\u001b[0m \u001b[43m    \u001b[49m\u001b[43mreturn_distance\u001b[49m\u001b[38;5;241;43m=\u001b[39;49m\u001b[43mreturn_distance\u001b[49m\u001b[43m,\u001b[49m\n\u001b[1;32m   1003\u001b[0m \u001b[43m    \u001b[49m\u001b[38;5;241;43m*\u001b[39;49m\u001b[38;5;241;43m*\u001b[39;49m\u001b[43mkwargs\u001b[49m\u001b[43m,\u001b[49m\n\u001b[1;32m   1004\u001b[0m \u001b[43m\u001b[49m\u001b[43m)\u001b[49m\n\u001b[1;32m   1005\u001b[0m (\u001b[38;5;28mself\u001b[39m\u001b[38;5;241m.\u001b[39mchildren_, \u001b[38;5;28mself\u001b[39m\u001b[38;5;241m.\u001b[39mn_connected_components_, \u001b[38;5;28mself\u001b[39m\u001b[38;5;241m.\u001b[39mn_leaves_, parents) \u001b[38;5;241m=\u001b[39m out[\n\u001b[1;32m   1006\u001b[0m     :\u001b[38;5;241m4\u001b[39m\n\u001b[1;32m   1007\u001b[0m ]\n\u001b[1;32m   1009\u001b[0m \u001b[38;5;28;01mif\u001b[39;00m return_distance:\n",
      "File \u001b[0;32m~/.local/lib/python3.8/site-packages/joblib/memory.py:349\u001b[0m, in \u001b[0;36mNotMemorizedFunc.__call__\u001b[0;34m(self, *args, **kwargs)\u001b[0m\n\u001b[1;32m    348\u001b[0m \u001b[38;5;28;01mdef\u001b[39;00m \u001b[38;5;21m__call__\u001b[39m(\u001b[38;5;28mself\u001b[39m, \u001b[38;5;241m*\u001b[39margs, \u001b[38;5;241m*\u001b[39m\u001b[38;5;241m*\u001b[39mkwargs):\n\u001b[0;32m--> 349\u001b[0m     \u001b[38;5;28;01mreturn\u001b[39;00m \u001b[38;5;28;43mself\u001b[39;49m\u001b[38;5;241;43m.\u001b[39;49m\u001b[43mfunc\u001b[49m\u001b[43m(\u001b[49m\u001b[38;5;241;43m*\u001b[39;49m\u001b[43margs\u001b[49m\u001b[43m,\u001b[49m\u001b[43m \u001b[49m\u001b[38;5;241;43m*\u001b[39;49m\u001b[38;5;241;43m*\u001b[39;49m\u001b[43mkwargs\u001b[49m\u001b[43m)\u001b[49m\n",
      "File \u001b[0;32m~/.local/lib/python3.8/site-packages/sklearn/cluster/_agglomerative.py:270\u001b[0m, in \u001b[0;36mward_tree\u001b[0;34m(X, connectivity, n_clusters, return_distance)\u001b[0m\n\u001b[1;32m    260\u001b[0m     warnings\u001b[38;5;241m.\u001b[39mwarn(\n\u001b[1;32m    261\u001b[0m         \u001b[38;5;124m\"\u001b[39m\u001b[38;5;124mPartial build of the tree is implemented \u001b[39m\u001b[38;5;124m\"\u001b[39m\n\u001b[1;32m    262\u001b[0m         \u001b[38;5;124m\"\u001b[39m\u001b[38;5;124monly for structured clustering (i.e. with \u001b[39m\u001b[38;5;124m\"\u001b[39m\n\u001b[0;32m   (...)\u001b[0m\n\u001b[1;32m    267\u001b[0m         stacklevel\u001b[38;5;241m=\u001b[39m\u001b[38;5;241m2\u001b[39m,\n\u001b[1;32m    268\u001b[0m     )\n\u001b[1;32m    269\u001b[0m X \u001b[38;5;241m=\u001b[39m np\u001b[38;5;241m.\u001b[39mrequire(X, requirements\u001b[38;5;241m=\u001b[39m\u001b[38;5;124m\"\u001b[39m\u001b[38;5;124mW\u001b[39m\u001b[38;5;124m\"\u001b[39m)\n\u001b[0;32m--> 270\u001b[0m out \u001b[38;5;241m=\u001b[39m \u001b[43mhierarchy\u001b[49m\u001b[38;5;241;43m.\u001b[39;49m\u001b[43mward\u001b[49m\u001b[43m(\u001b[49m\u001b[43mX\u001b[49m\u001b[43m)\u001b[49m\n\u001b[1;32m    271\u001b[0m children_ \u001b[38;5;241m=\u001b[39m out[:, :\u001b[38;5;241m2\u001b[39m]\u001b[38;5;241m.\u001b[39mastype(np\u001b[38;5;241m.\u001b[39mintp)\n\u001b[1;32m    273\u001b[0m \u001b[38;5;28;01mif\u001b[39;00m return_distance:\n",
      "File \u001b[0;32m~/.local/lib/python3.8/site-packages/scipy/cluster/hierarchy.py:834\u001b[0m, in \u001b[0;36mward\u001b[0;34m(y)\u001b[0m\n\u001b[1;32m    738\u001b[0m \u001b[38;5;28;01mdef\u001b[39;00m \u001b[38;5;21mward\u001b[39m(y):\n\u001b[1;32m    739\u001b[0m \u001b[38;5;250m    \u001b[39m\u001b[38;5;124;03m\"\"\"\u001b[39;00m\n\u001b[1;32m    740\u001b[0m \u001b[38;5;124;03m    Perform Ward's linkage on a condensed distance matrix.\u001b[39;00m\n\u001b[1;32m    741\u001b[0m \n\u001b[0;32m   (...)\u001b[0m\n\u001b[1;32m    832\u001b[0m \n\u001b[1;32m    833\u001b[0m \u001b[38;5;124;03m    \"\"\"\u001b[39;00m\n\u001b[0;32m--> 834\u001b[0m     \u001b[38;5;28;01mreturn\u001b[39;00m \u001b[43mlinkage\u001b[49m\u001b[43m(\u001b[49m\u001b[43my\u001b[49m\u001b[43m,\u001b[49m\u001b[43m \u001b[49m\u001b[43mmethod\u001b[49m\u001b[38;5;241;43m=\u001b[39;49m\u001b[38;5;124;43m'\u001b[39;49m\u001b[38;5;124;43mward\u001b[39;49m\u001b[38;5;124;43m'\u001b[39;49m\u001b[43m,\u001b[49m\u001b[43m \u001b[49m\u001b[43mmetric\u001b[49m\u001b[38;5;241;43m=\u001b[39;49m\u001b[38;5;124;43m'\u001b[39;49m\u001b[38;5;124;43meuclidean\u001b[39;49m\u001b[38;5;124;43m'\u001b[39;49m\u001b[43m)\u001b[49m\n",
      "File \u001b[0;32m~/.local/lib/python3.8/site-packages/scipy/cluster/hierarchy.py:1060\u001b[0m, in \u001b[0;36mlinkage\u001b[0;34m(y, method, metric, optimal_ordering)\u001b[0m\n\u001b[1;32m   1056\u001b[0m         \u001b[38;5;28;01mif\u001b[39;00m np\u001b[38;5;241m.\u001b[39mall(y \u001b[38;5;241m>\u001b[39m\u001b[38;5;241m=\u001b[39m \u001b[38;5;241m0\u001b[39m) \u001b[38;5;129;01mand\u001b[39;00m np\u001b[38;5;241m.\u001b[39mallclose(y, y\u001b[38;5;241m.\u001b[39mT):\n\u001b[1;32m   1057\u001b[0m             _warning(\u001b[38;5;124m'\u001b[39m\u001b[38;5;124mThe symmetric non-negative hollow observation \u001b[39m\u001b[38;5;124m'\u001b[39m\n\u001b[1;32m   1058\u001b[0m                      \u001b[38;5;124m'\u001b[39m\u001b[38;5;124mmatrix looks suspiciously like an uncondensed \u001b[39m\u001b[38;5;124m'\u001b[39m\n\u001b[1;32m   1059\u001b[0m                      \u001b[38;5;124m'\u001b[39m\u001b[38;5;124mdistance matrix\u001b[39m\u001b[38;5;124m'\u001b[39m)\n\u001b[0;32m-> 1060\u001b[0m     y \u001b[38;5;241m=\u001b[39m \u001b[43mdistance\u001b[49m\u001b[38;5;241;43m.\u001b[39;49m\u001b[43mpdist\u001b[49m\u001b[43m(\u001b[49m\u001b[43my\u001b[49m\u001b[43m,\u001b[49m\u001b[43m \u001b[49m\u001b[43mmetric\u001b[49m\u001b[43m)\u001b[49m\n\u001b[1;32m   1061\u001b[0m \u001b[38;5;28;01melse\u001b[39;00m:\n\u001b[1;32m   1062\u001b[0m     \u001b[38;5;28;01mraise\u001b[39;00m \u001b[38;5;167;01mValueError\u001b[39;00m(\u001b[38;5;124m\"\u001b[39m\u001b[38;5;124m`y` must be 1 or 2 dimensional.\u001b[39m\u001b[38;5;124m\"\u001b[39m)\n",
      "File \u001b[0;32m~/.local/lib/python3.8/site-packages/scipy/spatial/distance.py:2251\u001b[0m, in \u001b[0;36mpdist\u001b[0;34m(X, metric, out, **kwargs)\u001b[0m\n\u001b[1;32m   2249\u001b[0m \u001b[38;5;28;01mif\u001b[39;00m metric_info \u001b[38;5;129;01mis\u001b[39;00m \u001b[38;5;129;01mnot\u001b[39;00m \u001b[38;5;28;01mNone\u001b[39;00m:\n\u001b[1;32m   2250\u001b[0m     pdist_fn \u001b[38;5;241m=\u001b[39m metric_info\u001b[38;5;241m.\u001b[39mpdist_func\n\u001b[0;32m-> 2251\u001b[0m     \u001b[38;5;28;01mreturn\u001b[39;00m \u001b[43mpdist_fn\u001b[49m\u001b[43m(\u001b[49m\u001b[43mX\u001b[49m\u001b[43m,\u001b[49m\u001b[43m \u001b[49m\u001b[43mout\u001b[49m\u001b[38;5;241;43m=\u001b[39;49m\u001b[43mout\u001b[49m\u001b[43m,\u001b[49m\u001b[43m \u001b[49m\u001b[38;5;241;43m*\u001b[39;49m\u001b[38;5;241;43m*\u001b[39;49m\u001b[43mkwargs\u001b[49m\u001b[43m)\u001b[49m\n\u001b[1;32m   2252\u001b[0m \u001b[38;5;28;01melif\u001b[39;00m mstr\u001b[38;5;241m.\u001b[39mstartswith(\u001b[38;5;124m\"\u001b[39m\u001b[38;5;124mtest_\u001b[39m\u001b[38;5;124m\"\u001b[39m):\n\u001b[1;32m   2253\u001b[0m     metric_info \u001b[38;5;241m=\u001b[39m _TEST_METRICS\u001b[38;5;241m.\u001b[39mget(mstr, \u001b[38;5;28;01mNone\u001b[39;00m)\n",
      "\u001b[0;31mMemoryError\u001b[0m: Unable to allocate 582. GiB for an array with shape (78097645720,) and data type float64"
     ]
    }
   ],
   "source": [
    "agglo = AgglomerativeClustering(n_clusters=3)\n",
    "agglo_labels = agglo.fit_predict(X_train_RFE)\n",
    "\n",
    "agglo_ari = adjusted_rand_score(y_train_RFE, agglo_labels)\n",
    "agglo_nmi = normalized_mutual_info_score(y_train_RFE, agglo_labels)\n",
    "\n",
    "print(f\"Agglomerative ARI: {agglo_ari}, NMI: {agglo_nmi}\")"
   ]
  },
  {
   "cell_type": "code",
   "execution_count": null,
   "id": "30e26097",
   "metadata": {},
   "outputs": [],
   "source": [
    "dbscan = DBSCAN(eps=0.5)  # eps is the maximum distance between two samples for one to be considered as in the neighborhood of the other\n",
    "dbscan_labels = dbscan.fit_predict(X_train_RFE)\n",
    "\n",
    "if np.unique(dbscan_labels).size > 1:\n",
    "    dbscan_ari = adjusted_rand_score(y_train_RFE, dbscan_labels)\n",
    "    dbscan_nmi = normalized_mutual_info_score(y_train_RFE, dbscan_labels)\n",
    "else:\n",
    "    dbscan_ari, dbscan_nmi = 0, 0\n",
    "    \n",
    "print(f\"DBSCAN ARI: {dbscan_ari}, NMI: {dbscan_nmi}\")"
   ]
  },
  {
   "cell_type": "markdown",
   "id": "9c8cf332",
   "metadata": {},
   "source": [
    "# 5.)\n",
    " To the best of my attempts there were no reliable clusters found, and therefore no clusters were found in the top or bottom 10% of the data."
   ]
  },
  {
   "cell_type": "markdown",
   "id": "0f202a5c",
   "metadata": {},
   "source": [
    "# 6.)"
   ]
  },
  {
   "cell_type": "code",
   "execution_count": 19,
   "id": "cf5ef009",
   "metadata": {},
   "outputs": [],
   "source": [
    "from sklearn.ensemble import IsolationForest\n",
    "from sklearn.svm import OneClassSVM\n",
    "from sklearn.neighbors import LocalOutlierFactor\n",
    "from sklearn.metrics import classification_report, roc_auc_score"
   ]
  },
  {
   "cell_type": "code",
   "execution_count": 20,
   "id": "c08d5edd",
   "metadata": {},
   "outputs": [],
   "source": [
    "SA_data, SA_target = data, target\n",
    "X_train, X_test, y_train, y_test = train_test_split(SA_data, SA_target, test_size=0.2, random_state=42)"
   ]
  },
  {
   "cell_type": "code",
   "execution_count": 21,
   "id": "e4414fb8",
   "metadata": {},
   "outputs": [],
   "source": [
    "# Anomaly Detection algorithms\n",
    "iso_forest = IsolationForest()\n",
    "oc_svm = OneClassSVM()\n",
    "lof = LocalOutlierFactor()"
   ]
  },
  {
   "cell_type": "code",
   "execution_count": null,
   "id": "50dfd055",
   "metadata": {},
   "outputs": [],
   "source": [
    "iso_forest_pred = iso_forest.fit_predict(X_train)\n",
    "oc_svm_pred = oc_svm.fit_predict(X_train)\n",
    "lof_pred = lof.fit_predict(X_train)"
   ]
  },
  {
   "cell_type": "code",
   "execution_count": null,
   "id": "25a2b528",
   "metadata": {},
   "outputs": [],
   "source": [
    "# Convert -1 to 1 for anomaly and 1 to 0 for normal for consistency with y labels\n",
    "iso_forest_pred = [1 if x == -1 else 0 for x in iso_forest_pred]\n",
    "oc_svm_pred = [1 if x == -1 else 0 for x in oc_svm_pred]\n",
    "lof_pred = [1 if x == -1 else 0 for x in lof_pred]\n",
    "\n",
    "print(\"Isolation Forest Performance:\")\n",
    "print(classification_report(y, iso_forest_pred))\n",
    "print(\"ROC AUC Score:\", roc_auc_score(y, iso_forest_pred))\n",
    "\n",
    "print(\"\\nOne-Class SVM Performance:\")\n",
    "print(classification_report(y, oc_svm_pred))\n",
    "print(\"ROC AUC Score:\", roc_auc_score(y, oc_svm_pred))\n",
    "\n",
    "print(\"\\nLocal Outlier Factor Performance:\")\n",
    "print(classification_report(y, lof_pred))\n",
    "print(\"ROC AUC Score:\", roc_auc_score(y, lof_pred))"
   ]
  },
  {
   "cell_type": "markdown",
   "id": "d98b3839",
   "metadata": {},
   "source": [
    "# 7.)"
   ]
  },
  {
   "cell_type": "code",
   "execution_count": null,
   "id": "43bcac16",
   "metadata": {},
   "outputs": [],
   "source": [
    "from sklearn.ensemble import IsolationForest\n",
    "from sklearn.svm import OneClassSVM\n",
    "from sklearn.neighbors import LocalOutlierFactor\n",
    "from sklearn.model_selection import LeaveOneOut\n",
    "from sklearn.metrics import confusion_matrix"
   ]
  },
  {
   "cell_type": "code",
   "execution_count": null,
   "id": "fea58066",
   "metadata": {},
   "outputs": [],
   "source": [
    "# Randomly select 250 data points\n",
    "indices = random.sample(range(len(data)), 25)\n",
    "X_subset = data[indices]\n",
    "y_subset = np.array(target)[indices]"
   ]
  },
  {
   "cell_type": "code",
   "execution_count": null,
   "id": "0f2b471c",
   "metadata": {},
   "outputs": [],
   "source": [
    "iso_forest = IsolationForest()\n",
    "oc_svm = OneClassSVM()\n",
    "lof = LocalOutlierFactor()"
   ]
  },
  {
   "cell_type": "code",
   "execution_count": null,
   "id": "6e5a61b9",
   "metadata": {},
   "outputs": [],
   "source": [
    "loo = LeaveOneOut()\n",
    "iso_forest_scores = []\n",
    "oc_svm_scores = []\n",
    "lof_scores = []\n",
    "\n",
    "for train_index, test_index in loo.split(X_subset):\n",
    "    X_train, X_test = X_subset[train_index], X_subset[test_index]\n",
    "    y_train, y_test = y_subset[train_index], y_subset[test_index]\n",
    "\n",
    "    # Fit and predict with Isolation Forest\n",
    "    iso_forest.fit(X_train)\n",
    "    iso_forest_pred = iso_forest.predict(X_test)\n",
    "    iso_forest_scores.append(confusion_matrix(y_test, iso_forest_pred, labels=[-1, 1]))\n",
    "\n",
    "    # Fit and predict with One-Class SVM\n",
    "    oc_svm.fit(X_train)\n",
    "    oc_svm_pred = oc_svm.predict(X_test)\n",
    "    oc_svm_scores.append(confusion_matrix(y_test, oc_svm_pred, labels=[-1, 1]))\n",
    "\n",
    "    # Fit and predict with Local Outlier Factor\n",
    "    lof.fit(X_train)\n",
    "    lof_pred = lof.fit_predict(X_test)\n",
    "    lof_scores.append(confusion_matrix(y_test, lof_pred, labels=[-1, 1]))\n"
   ]
  },
  {
   "cell_type": "code",
   "execution_count": null,
   "id": "6f00696a",
   "metadata": {},
   "outputs": [],
   "source": [
    "# Aggregate and summarize the scores\n",
    "iso_forest_performance = np.sum(iso_forest_scores, axis=0)\n",
    "oc_svm_performance = np.sum(oc_svm_scores, axis=0)\n",
    "lof_performance = np.sum(lof_scores, axis=0)\n",
    "\n",
    "print(\"Isolation Forest Performance:\\n\", iso_forest_performance)\n",
    "print(\"\\nOne-Class SVM Performance:\\n\", oc_svm_performance)\n",
    "print(\"\\nLocal Outlier Factor Performance:\\n\", lof_performance)"
   ]
  },
  {
   "cell_type": "markdown",
   "id": "fba26cb6",
   "metadata": {},
   "source": [
    "# 8.)"
   ]
  },
  {
   "cell_type": "code",
   "execution_count": null,
   "id": "390197a6",
   "metadata": {},
   "outputs": [],
   "source": [
    "from sklearn.feature_selection import SelectKBest, chi2, RFE\n",
    "from sklearn.tree import DecisionTreeClassifier"
   ]
  },
  {
   "cell_type": "code",
   "execution_count": null,
   "id": "256486f7",
   "metadata": {},
   "outputs": [],
   "source": [
    "bestfeatures = SelectKBest(score_func=chi2, k=5)\n",
    "fit = bestfeatures.fit(SA_data, SA_target)\n",
    "\n",
    "dfscores = pd.DataFrame(fit.scores_)\n",
    "dfcolumns = pd.DataFrame(SA_data.columns)\n",
    "\n",
    "# Concatenate dataframes for better visualization\n",
    "featureScores = pd.concat([dfcolumns, dfscores], axis=1)\n",
    "featureScores.columns = ['Feature', 'Score']  # Naming the dataframe columns\n",
    "top_10_KBest = featureScores.nlargest(5, 'Score')\n",
    "print(top_10_KBest)  # Print 10 best features\n",
    "\n",
    "top_10_KBest = list(top_10_KBest['Feature'])"
   ]
  }
 ],
 "metadata": {
  "kernelspec": {
   "display_name": "Python 3 (ipykernel)",
   "language": "python",
   "name": "python3"
  },
  "language_info": {
   "codemirror_mode": {
    "name": "ipython",
    "version": 3
   },
   "file_extension": ".py",
   "mimetype": "text/x-python",
   "name": "python",
   "nbconvert_exporter": "python",
   "pygments_lexer": "ipython3",
   "version": "3.8.10"
  }
 },
 "nbformat": 4,
 "nbformat_minor": 5
}
