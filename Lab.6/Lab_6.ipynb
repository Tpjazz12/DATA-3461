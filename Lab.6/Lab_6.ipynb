{
  "cells": [
    {
      "cell_type": "markdown",
      "id": "49cf8381",
      "metadata": {
        "id": "49cf8381"
      },
      "source": [
        "# Lab 6\n",
        "\n",
        "Scikit learn provides a large variety of algorithms for some common Machine Learning tasks, such as:\n",
        "\n",
        "* Classification\n",
        "* Regression\n",
        "* Clustering\n",
        "* Feature Selection\n",
        "* Anomaly Detection\n",
        "\n",
        "It also provides some datasets that you can use to test these algorithms:\n",
        "\n",
        "* Classification Datasets:\n",
        "    * Breast cancer wisconsin\n",
        "    * Iris plants (3-classes)\n",
        "    * Optical recognition of handwritten digits (10-classes)\n",
        "    * Wine (n-classes)\n",
        "\n",
        "* Regression Datasets:\n",
        "    * Boston house prices\n",
        "    * Diabetes\n",
        "    * Linnerrud (multiple regression)\n",
        "    * California Housing\n",
        "\n",
        "* Image:\n",
        "    * The Olivetti faces\n",
        "    * The Labeled Faces in the Wild face recognition\n",
        "    * Forest covertypes\n",
        "\n",
        "* NLP:\n",
        "    * News group\n",
        "    * Reuters Corpus Volume I\n",
        "\n",
        "* Other:\n",
        "    * Kddcup 99- Intrusion Detection"
      ]
    },
    {
      "cell_type": "markdown",
      "id": "d4e3b6e9",
      "metadata": {
        "id": "d4e3b6e9"
      },
      "source": [
        "## Exercises\n",
        "\n",
        "1. Use the full [Kddcup](http://kdd.ics.uci.edu/databases/kddcup99/kddcup99.html) dataset to compare classification performance of 3 different classifiers.\n",
        "    * Separate the data into train, validation, and test.\n",
        "    * Use accuracy as the metric for assessing performance.\n",
        "    * For each classifier, identify the hyperparameters. Perform optimization over at least 2 hyperparameters.   \n",
        "    * Compare the performance of the optimal configuration of the classifiers.\n",
        "\n",
        "2. Pick the best algorithm in question 1. Create an ensemble of at least 25 models, and use them for the classification task. Identify the top and bottom 10% of the data in terms of uncertainty of the decision.\n",
        "\n",
        "3. Use 2 different feature selection algorithm to identify the 10 most important features for the task in question 1. Retrain classifiers in question 1 with just this subset of features and compare performance.\n",
        "\n",
        "4. Use the same data, removing the labels, and compare performance of 3 different clustering algorithms. Can you find clusters for each of the classes in question 1?\n",
        "\n",
        "5. Can you identify any clusters within the top/botton 10% identified in 2. What are their characteristics?\n",
        "\n",
        "6. Use the \"SA\" dataset to compare the performance of 3 different anomaly detection algorithms.\n",
        "\n",
        "7. Create a subsample of 250 datapoints, redo question 6, using Leave-one-out as the method of evaluation.\n",
        "\n",
        "8. Use the feature selection algorithm to identify the 5 most important features for the task in question 6, for each algorithm. Does the anomaly detection improve using less features?"
      ]
    },
    {
      "cell_type": "markdown",
      "id": "ef18662c",
      "metadata": {
        "id": "ef18662c"
      },
      "source": [
        "## Quick look at the data"
      ]
    },
    {
      "cell_type": "code",
      "execution_count": 2,
      "id": "9f1c631a",
      "metadata": {
        "id": "9f1c631a"
      },
      "outputs": [],
      "source": [
        "from sklearn.datasets import fetch_kddcup99\n",
        "D=fetch_kddcup99()"
      ]
    },
    {
      "cell_type": "code",
      "execution_count": 3,
      "id": "7d561eff",
      "metadata": {
        "colab": {
          "base_uri": "https://localhost:8080/"
        },
        "id": "7d561eff",
        "outputId": "0f2fa2d0-4479-4601-cc65-a76f049721c8"
      },
      "outputs": [
        {
          "output_type": "execute_result",
          "data": {
            "text/plain": [
              "['DESCR', 'data', 'feature_names', 'frame', 'target', 'target_names']"
            ]
          },
          "metadata": {},
          "execution_count": 3
        }
      ],
      "source": [
        "dir(D)"
      ]
    },
    {
      "cell_type": "code",
      "execution_count": 4,
      "id": "875d2d16",
      "metadata": {
        "colab": {
          "base_uri": "https://localhost:8080/"
        },
        "id": "875d2d16",
        "outputId": "f29bdb05-c9e2-4b77-8109-f4acfd1ad637"
      },
      "outputs": [
        {
          "output_type": "stream",
          "name": "stdout",
          "text": [
            ".. _kddcup99_dataset:\n",
            "\n",
            "Kddcup 99 dataset\n",
            "-----------------\n",
            "\n",
            "The KDD Cup '99 dataset was created by processing the tcpdump portions\n",
            "of the 1998 DARPA Intrusion Detection System (IDS) Evaluation dataset,\n",
            "created by MIT Lincoln Lab [2]_. The artificial data (described on the `dataset's\n",
            "homepage <https://kdd.ics.uci.edu/databases/kddcup99/kddcup99.html>`_) was\n",
            "generated using a closed network and hand-injected attacks to produce a\n",
            "large number of different types of attack with normal activity in the\n",
            "background. As the initial goal was to produce a large training set for\n",
            "supervised learning algorithms, there is a large proportion (80.1%) of\n",
            "abnormal data which is unrealistic in real world, and inappropriate for\n",
            "unsupervised anomaly detection which aims at detecting 'abnormal' data, i.e.:\n",
            "\n",
            "* qualitatively different from normal data\n",
            "* in large minority among the observations.\n",
            "\n",
            "We thus transform the KDD Data set into two different data sets: SA and SF.\n",
            "\n",
            "* SA is obtained by simply selecting all the normal data, and a small\n",
            "  proportion of abnormal data to gives an anomaly proportion of 1%.\n",
            "\n",
            "* SF is obtained as in [3]_\n",
            "  by simply picking up the data whose attribute logged_in is positive, thus\n",
            "  focusing on the intrusion attack, which gives a proportion of 0.3% of\n",
            "  attack.\n",
            "\n",
            "* http and smtp are two subsets of SF corresponding with third feature\n",
            "  equal to 'http' (resp. to 'smtp').\n",
            "\n",
            "General KDD structure :\n",
            "\n",
            "    ================      ==========================================\n",
            "    Samples total         4898431\n",
            "    Dimensionality        41\n",
            "    Features              discrete (int) or continuous (float)\n",
            "    Targets               str, 'normal.' or name of the anomaly type\n",
            "    ================      ==========================================\n",
            "\n",
            "    SA structure :\n",
            "\n",
            "    ================      ==========================================\n",
            "    Samples total         976158\n",
            "    Dimensionality        41\n",
            "    Features              discrete (int) or continuous (float)\n",
            "    Targets               str, 'normal.' or name of the anomaly type\n",
            "    ================      ==========================================\n",
            "\n",
            "    SF structure :\n",
            "\n",
            "    ================      ==========================================\n",
            "    Samples total         699691\n",
            "    Dimensionality        4\n",
            "    Features              discrete (int) or continuous (float)\n",
            "    Targets               str, 'normal.' or name of the anomaly type\n",
            "    ================      ==========================================\n",
            "\n",
            "    http structure :\n",
            "\n",
            "    ================      ==========================================\n",
            "    Samples total         619052\n",
            "    Dimensionality        3\n",
            "    Features              discrete (int) or continuous (float)\n",
            "    Targets               str, 'normal.' or name of the anomaly type\n",
            "    ================      ==========================================\n",
            "\n",
            "    smtp structure :\n",
            "\n",
            "    ================      ==========================================\n",
            "    Samples total         95373\n",
            "    Dimensionality        3\n",
            "    Features              discrete (int) or continuous (float)\n",
            "    Targets               str, 'normal.' or name of the anomaly type\n",
            "    ================      ==========================================\n",
            "\n",
            ":func:`sklearn.datasets.fetch_kddcup99` will load the kddcup99 dataset; it\n",
            "returns a dictionary-like object with the feature matrix in the ``data`` member\n",
            "and the target values in ``target``. The \"as_frame\" optional argument converts\n",
            "``data`` into a pandas DataFrame and ``target`` into a pandas Series. The\n",
            "dataset will be downloaded from the web if necessary.\n",
            "\n",
            ".. topic:: References\n",
            "\n",
            "    .. [2] Analysis and Results of the 1999 DARPA Off-Line Intrusion\n",
            "           Detection Evaluation, Richard Lippmann, Joshua W. Haines,\n",
            "           David J. Fried, Jonathan Korba, Kumar Das.\n",
            "\n",
            "    .. [3] K. Yamanishi, J.-I. Takeuchi, G. Williams, and P. Milne. Online\n",
            "           unsupervised outlier detection using finite mixtures with\n",
            "           discounting learning algorithms. In Proceedings of the sixth\n",
            "           ACM SIGKDD international conference on Knowledge discovery\n",
            "           and data mining, pages 320-324. ACM Press, 2000.\n",
            "\n"
          ]
        }
      ],
      "source": [
        "print(D[\"DESCR\"])"
      ]
    },
    {
      "cell_type": "code",
      "execution_count": 5,
      "id": "4cef559d",
      "metadata": {
        "id": "4cef559d",
        "outputId": "73c4d72d-7029-47ee-ee1c-5266ee417db0",
        "colab": {
          "base_uri": "https://localhost:8080/"
        }
      },
      "outputs": [
        {
          "output_type": "execute_result",
          "data": {
            "text/plain": [
              "array([b'back.', b'buffer_overflow.', b'ftp_write.', b'guess_passwd.',\n",
              "       b'imap.', b'ipsweep.', b'land.', b'loadmodule.', b'multihop.',\n",
              "       b'neptune.', b'nmap.', b'normal.', b'perl.', b'phf.', b'pod.',\n",
              "       b'portsweep.', b'rootkit.', b'satan.', b'smurf.', b'spy.',\n",
              "       b'teardrop.', b'warezclient.', b'warezmaster.'], dtype=object)"
            ]
          },
          "metadata": {},
          "execution_count": 5
        }
      ],
      "source": [
        "import numpy as np\n",
        "np.unique(D[\"target\"])"
      ]
    },
    {
      "cell_type": "code",
      "execution_count": 6,
      "id": "6ed0289b",
      "metadata": {
        "id": "6ed0289b",
        "outputId": "e57c0297-a3aa-467b-ea79-1e7e41e8cb51",
        "colab": {
          "base_uri": "https://localhost:8080/"
        }
      },
      "outputs": [
        {
          "output_type": "execute_result",
          "data": {
            "text/plain": [
              "23"
            ]
          },
          "metadata": {},
          "execution_count": 6
        }
      ],
      "source": [
        "len(np.unique(D[\"target\"]))"
      ]
    },
    {
      "cell_type": "code",
      "execution_count": 7,
      "id": "aff034ea",
      "metadata": {
        "id": "aff034ea",
        "outputId": "b815c966-2579-4b9a-bbfb-f5c58ccf22dd",
        "colab": {
          "base_uri": "https://localhost:8080/"
        }
      },
      "outputs": [
        {
          "output_type": "execute_result",
          "data": {
            "text/plain": [
              "['duration',\n",
              " 'protocol_type',\n",
              " 'service',\n",
              " 'flag',\n",
              " 'src_bytes',\n",
              " 'dst_bytes',\n",
              " 'land',\n",
              " 'wrong_fragment',\n",
              " 'urgent',\n",
              " 'hot',\n",
              " 'num_failed_logins',\n",
              " 'logged_in',\n",
              " 'num_compromised',\n",
              " 'root_shell',\n",
              " 'su_attempted',\n",
              " 'num_root',\n",
              " 'num_file_creations',\n",
              " 'num_shells',\n",
              " 'num_access_files',\n",
              " 'num_outbound_cmds',\n",
              " 'is_host_login',\n",
              " 'is_guest_login',\n",
              " 'count',\n",
              " 'srv_count',\n",
              " 'serror_rate',\n",
              " 'srv_serror_rate',\n",
              " 'rerror_rate',\n",
              " 'srv_rerror_rate',\n",
              " 'same_srv_rate',\n",
              " 'diff_srv_rate',\n",
              " 'srv_diff_host_rate',\n",
              " 'dst_host_count',\n",
              " 'dst_host_srv_count',\n",
              " 'dst_host_same_srv_rate',\n",
              " 'dst_host_diff_srv_rate',\n",
              " 'dst_host_same_src_port_rate',\n",
              " 'dst_host_srv_diff_host_rate',\n",
              " 'dst_host_serror_rate',\n",
              " 'dst_host_srv_serror_rate',\n",
              " 'dst_host_rerror_rate',\n",
              " 'dst_host_srv_rerror_rate']"
            ]
          },
          "metadata": {},
          "execution_count": 7
        }
      ],
      "source": [
        "D[\"feature_names\"]"
      ]
    },
    {
      "cell_type": "markdown",
      "source": [
        "### Exercise 1"
      ],
      "metadata": {
        "id": "cw78B_TM3mRW"
      },
      "id": "cw78B_TM3mRW"
    },
    {
      "cell_type": "code",
      "source": [
        "import pandas as pd\n",
        "\n",
        "# Convert features and target to DataFrames\n",
        "feature_df = pd.DataFrame(D.data, columns=D[\"feature_names\"])\n",
        "target_df = pd.Series(D.target).rename('target')\n",
        "\n",
        "# Concatenate features and target into a single DataFrame\n",
        "data_df = pd.concat([feature_df, target_df], axis=1)"
      ],
      "metadata": {
        "id": "8-_aGBh-U2Yz"
      },
      "id": "8-_aGBh-U2Yz",
      "execution_count": 8,
      "outputs": []
    },
    {
      "cell_type": "code",
      "execution_count": 9,
      "id": "cfd97ecd",
      "metadata": {
        "id": "cfd97ecd"
      },
      "outputs": [],
      "source": [
        "from sklearn.datasets import fetch_kddcup99\n",
        "from sklearn.preprocessing import StandardScaler, OneHotEncoder\n",
        "from sklearn.compose import ColumnTransformer\n",
        "from sklearn.model_selection import train_test_split\n",
        "import numpy as np\n",
        "\n",
        "D = fetch_kddcup99()\n",
        "\n",
        "\n",
        "categorical_features = ['protocol_type', 'service', 'flag']\n",
        "numerical_features = [f for f in D[\"feature_names\"] if f not in categorical_features]\n",
        "\n",
        "\n",
        "categorical_transformer = OneHotEncoder()\n",
        "numerical_transformer = StandardScaler()\n",
        "\n",
        "preprocessor = ColumnTransformer(\n",
        "    transformers=[\n",
        "        ('num', numerical_transformer, numerical_features),\n",
        "        ('cat', categorical_transformer, categorical_features)\n",
        "    ])\n",
        "\n",
        "X = preprocessor.fit_transform(data_df.iloc[:, :-1])\n",
        "y = data_df['target'].values\n"
      ]
    },
    {
      "cell_type": "code",
      "source": [
        "# Split the dataset\n",
        "X_train, X_temp, y_train, y_temp = train_test_split(X, y, test_size=0.3, random_state=42)\n",
        "X_val, X_test, y_val, y_test = train_test_split(X_temp, y_temp, test_size=0.5, random_state=42)\n"
      ],
      "metadata": {
        "id": "JhQxWch1UiRu"
      },
      "id": "JhQxWch1UiRu",
      "execution_count": 10,
      "outputs": []
    },
    {
      "cell_type": "code",
      "source": [
        "y_train = np.array([label.decode('utf-8') for label in y_train])\n",
        "\n",
        "from sklearn.preprocessing import LabelEncoder\n",
        "\n",
        "label_encoder = LabelEncoder()\n",
        "y_train = label_encoder.fit_transform(y_train)"
      ],
      "metadata": {
        "id": "V6PUg1VfV-kh"
      },
      "id": "V6PUg1VfV-kh",
      "execution_count": 11,
      "outputs": []
    },
    {
      "cell_type": "code",
      "source": [
        "print(y_train.shape)"
      ],
      "metadata": {
        "colab": {
          "base_uri": "https://localhost:8080/"
        },
        "id": "cXUpBBChWBWQ",
        "outputId": "02a01986-4f7f-41b2-837e-de306fe0e203"
      },
      "id": "cXUpBBChWBWQ",
      "execution_count": 12,
      "outputs": [
        {
          "output_type": "stream",
          "name": "stdout",
          "text": [
            "(345814,)\n"
          ]
        }
      ]
    },
    {
      "cell_type": "code",
      "source": [
        "from sklearn.ensemble import RandomForestClassifier\n",
        "from sklearn.svm import SVC\n",
        "from sklearn.linear_model import LogisticRegression\n",
        "from sklearn.model_selection import GridSearchCV\n",
        "\n",
        "# Define classifiers and their hyperparameter grids\n",
        "classifiers = {\n",
        "    'RandomForest': RandomForestClassifier(),\n",
        "    'SVM': SVC(),\n",
        "    'LogisticRegression': LogisticRegression()\n",
        "}\n",
        "\n",
        "param_grids = {\n",
        "    'RandomForest': {'n_estimators': [10, 50, 100], 'max_depth': [5, 10, None]},\n",
        "    'SVM': {'C': [0.1, 1, 10], 'kernel': ['linear', 'rbf']},\n",
        "    'LogisticRegression': {'C': [0.1, 1, 10], 'max_iter': [100, 200]}\n",
        "}\n",
        "\n",
        "# Perform grid search for each classifier\n",
        "optimal_classifiers = {}\n",
        "# Proceed with training and hyperparameter tuning\n",
        "for clf_name in classifiers:\n",
        "    grid_search = GridSearchCV(classifiers[clf_name], param_grids[clf_name], cv=5, scoring='accuracy')\n",
        "    grid_search.fit(X_train, y_train)\n",
        "    optimal_classifiers[clf_name] = grid_search.best_estimator_\n"
      ],
      "metadata": {
        "colab": {
          "base_uri": "https://localhost:8080/"
        },
        "id": "UrBgenO9VFRf",
        "outputId": "1dc0c637-a3fa-436c-ee83-844976638c86"
      },
      "id": "UrBgenO9VFRf",
      "execution_count": 12,
      "outputs": [
        {
          "output_type": "stream",
          "name": "stderr",
          "text": [
            "/usr/local/lib/python3.10/dist-packages/sklearn/model_selection/_split.py:700: UserWarning: The least populated class in y has only 1 members, which is less than n_splits=5.\n",
            "  warnings.warn(\n",
            "/usr/local/lib/python3.10/dist-packages/sklearn/model_selection/_split.py:700: UserWarning: The least populated class in y has only 1 members, which is less than n_splits=5.\n",
            "  warnings.warn(\n",
            "/usr/local/lib/python3.10/dist-packages/sklearn/model_selection/_split.py:700: UserWarning: The least populated class in y has only 1 members, which is less than n_splits=5.\n",
            "  warnings.warn(\n",
            "/usr/local/lib/python3.10/dist-packages/sklearn/linear_model/_logistic.py:458: ConvergenceWarning: lbfgs failed to converge (status=1):\n",
            "STOP: TOTAL NO. of ITERATIONS REACHED LIMIT.\n",
            "\n",
            "Increase the number of iterations (max_iter) or scale the data as shown in:\n",
            "    https://scikit-learn.org/stable/modules/preprocessing.html\n",
            "Please also refer to the documentation for alternative solver options:\n",
            "    https://scikit-learn.org/stable/modules/linear_model.html#logistic-regression\n",
            "  n_iter_i = _check_optimize_result(\n",
            "/usr/local/lib/python3.10/dist-packages/sklearn/linear_model/_logistic.py:458: ConvergenceWarning: lbfgs failed to converge (status=1):\n",
            "STOP: TOTAL NO. of ITERATIONS REACHED LIMIT.\n",
            "\n",
            "Increase the number of iterations (max_iter) or scale the data as shown in:\n",
            "    https://scikit-learn.org/stable/modules/preprocessing.html\n",
            "Please also refer to the documentation for alternative solver options:\n",
            "    https://scikit-learn.org/stable/modules/linear_model.html#logistic-regression\n",
            "  n_iter_i = _check_optimize_result(\n",
            "/usr/local/lib/python3.10/dist-packages/sklearn/linear_model/_logistic.py:458: ConvergenceWarning: lbfgs failed to converge (status=1):\n",
            "STOP: TOTAL NO. of ITERATIONS REACHED LIMIT.\n",
            "\n",
            "Increase the number of iterations (max_iter) or scale the data as shown in:\n",
            "    https://scikit-learn.org/stable/modules/preprocessing.html\n",
            "Please also refer to the documentation for alternative solver options:\n",
            "    https://scikit-learn.org/stable/modules/linear_model.html#logistic-regression\n",
            "  n_iter_i = _check_optimize_result(\n",
            "/usr/local/lib/python3.10/dist-packages/sklearn/linear_model/_logistic.py:458: ConvergenceWarning: lbfgs failed to converge (status=1):\n",
            "STOP: TOTAL NO. of ITERATIONS REACHED LIMIT.\n",
            "\n",
            "Increase the number of iterations (max_iter) or scale the data as shown in:\n",
            "    https://scikit-learn.org/stable/modules/preprocessing.html\n",
            "Please also refer to the documentation for alternative solver options:\n",
            "    https://scikit-learn.org/stable/modules/linear_model.html#logistic-regression\n",
            "  n_iter_i = _check_optimize_result(\n",
            "/usr/local/lib/python3.10/dist-packages/sklearn/linear_model/_logistic.py:458: ConvergenceWarning: lbfgs failed to converge (status=1):\n",
            "STOP: TOTAL NO. of ITERATIONS REACHED LIMIT.\n",
            "\n",
            "Increase the number of iterations (max_iter) or scale the data as shown in:\n",
            "    https://scikit-learn.org/stable/modules/preprocessing.html\n",
            "Please also refer to the documentation for alternative solver options:\n",
            "    https://scikit-learn.org/stable/modules/linear_model.html#logistic-regression\n",
            "  n_iter_i = _check_optimize_result(\n",
            "/usr/local/lib/python3.10/dist-packages/sklearn/linear_model/_logistic.py:458: ConvergenceWarning: lbfgs failed to converge (status=1):\n",
            "STOP: TOTAL NO. of ITERATIONS REACHED LIMIT.\n",
            "\n",
            "Increase the number of iterations (max_iter) or scale the data as shown in:\n",
            "    https://scikit-learn.org/stable/modules/preprocessing.html\n",
            "Please also refer to the documentation for alternative solver options:\n",
            "    https://scikit-learn.org/stable/modules/linear_model.html#logistic-regression\n",
            "  n_iter_i = _check_optimize_result(\n",
            "/usr/local/lib/python3.10/dist-packages/sklearn/linear_model/_logistic.py:458: ConvergenceWarning: lbfgs failed to converge (status=1):\n",
            "STOP: TOTAL NO. of ITERATIONS REACHED LIMIT.\n",
            "\n",
            "Increase the number of iterations (max_iter) or scale the data as shown in:\n",
            "    https://scikit-learn.org/stable/modules/preprocessing.html\n",
            "Please also refer to the documentation for alternative solver options:\n",
            "    https://scikit-learn.org/stable/modules/linear_model.html#logistic-regression\n",
            "  n_iter_i = _check_optimize_result(\n",
            "/usr/local/lib/python3.10/dist-packages/sklearn/linear_model/_logistic.py:458: ConvergenceWarning: lbfgs failed to converge (status=1):\n",
            "STOP: TOTAL NO. of ITERATIONS REACHED LIMIT.\n",
            "\n",
            "Increase the number of iterations (max_iter) or scale the data as shown in:\n",
            "    https://scikit-learn.org/stable/modules/preprocessing.html\n",
            "Please also refer to the documentation for alternative solver options:\n",
            "    https://scikit-learn.org/stable/modules/linear_model.html#logistic-regression\n",
            "  n_iter_i = _check_optimize_result(\n",
            "/usr/local/lib/python3.10/dist-packages/sklearn/linear_model/_logistic.py:458: ConvergenceWarning: lbfgs failed to converge (status=1):\n",
            "STOP: TOTAL NO. of ITERATIONS REACHED LIMIT.\n",
            "\n",
            "Increase the number of iterations (max_iter) or scale the data as shown in:\n",
            "    https://scikit-learn.org/stable/modules/preprocessing.html\n",
            "Please also refer to the documentation for alternative solver options:\n",
            "    https://scikit-learn.org/stable/modules/linear_model.html#logistic-regression\n",
            "  n_iter_i = _check_optimize_result(\n",
            "/usr/local/lib/python3.10/dist-packages/sklearn/linear_model/_logistic.py:458: ConvergenceWarning: lbfgs failed to converge (status=1):\n",
            "STOP: TOTAL NO. of ITERATIONS REACHED LIMIT.\n",
            "\n",
            "Increase the number of iterations (max_iter) or scale the data as shown in:\n",
            "    https://scikit-learn.org/stable/modules/preprocessing.html\n",
            "Please also refer to the documentation for alternative solver options:\n",
            "    https://scikit-learn.org/stable/modules/linear_model.html#logistic-regression\n",
            "  n_iter_i = _check_optimize_result(\n",
            "/usr/local/lib/python3.10/dist-packages/sklearn/linear_model/_logistic.py:458: ConvergenceWarning: lbfgs failed to converge (status=1):\n",
            "STOP: TOTAL NO. of ITERATIONS REACHED LIMIT.\n",
            "\n",
            "Increase the number of iterations (max_iter) or scale the data as shown in:\n",
            "    https://scikit-learn.org/stable/modules/preprocessing.html\n",
            "Please also refer to the documentation for alternative solver options:\n",
            "    https://scikit-learn.org/stable/modules/linear_model.html#logistic-regression\n",
            "  n_iter_i = _check_optimize_result(\n",
            "/usr/local/lib/python3.10/dist-packages/sklearn/linear_model/_logistic.py:458: ConvergenceWarning: lbfgs failed to converge (status=1):\n",
            "STOP: TOTAL NO. of ITERATIONS REACHED LIMIT.\n",
            "\n",
            "Increase the number of iterations (max_iter) or scale the data as shown in:\n",
            "    https://scikit-learn.org/stable/modules/preprocessing.html\n",
            "Please also refer to the documentation for alternative solver options:\n",
            "    https://scikit-learn.org/stable/modules/linear_model.html#logistic-regression\n",
            "  n_iter_i = _check_optimize_result(\n",
            "/usr/local/lib/python3.10/dist-packages/sklearn/linear_model/_logistic.py:458: ConvergenceWarning: lbfgs failed to converge (status=1):\n",
            "STOP: TOTAL NO. of ITERATIONS REACHED LIMIT.\n",
            "\n",
            "Increase the number of iterations (max_iter) or scale the data as shown in:\n",
            "    https://scikit-learn.org/stable/modules/preprocessing.html\n",
            "Please also refer to the documentation for alternative solver options:\n",
            "    https://scikit-learn.org/stable/modules/linear_model.html#logistic-regression\n",
            "  n_iter_i = _check_optimize_result(\n",
            "/usr/local/lib/python3.10/dist-packages/sklearn/linear_model/_logistic.py:458: ConvergenceWarning: lbfgs failed to converge (status=1):\n",
            "STOP: TOTAL NO. of ITERATIONS REACHED LIMIT.\n",
            "\n",
            "Increase the number of iterations (max_iter) or scale the data as shown in:\n",
            "    https://scikit-learn.org/stable/modules/preprocessing.html\n",
            "Please also refer to the documentation for alternative solver options:\n",
            "    https://scikit-learn.org/stable/modules/linear_model.html#logistic-regression\n",
            "  n_iter_i = _check_optimize_result(\n",
            "/usr/local/lib/python3.10/dist-packages/sklearn/linear_model/_logistic.py:458: ConvergenceWarning: lbfgs failed to converge (status=1):\n",
            "STOP: TOTAL NO. of ITERATIONS REACHED LIMIT.\n",
            "\n",
            "Increase the number of iterations (max_iter) or scale the data as shown in:\n",
            "    https://scikit-learn.org/stable/modules/preprocessing.html\n",
            "Please also refer to the documentation for alternative solver options:\n",
            "    https://scikit-learn.org/stable/modules/linear_model.html#logistic-regression\n",
            "  n_iter_i = _check_optimize_result(\n",
            "/usr/local/lib/python3.10/dist-packages/sklearn/linear_model/_logistic.py:458: ConvergenceWarning: lbfgs failed to converge (status=1):\n",
            "STOP: TOTAL NO. of ITERATIONS REACHED LIMIT.\n",
            "\n",
            "Increase the number of iterations (max_iter) or scale the data as shown in:\n",
            "    https://scikit-learn.org/stable/modules/preprocessing.html\n",
            "Please also refer to the documentation for alternative solver options:\n",
            "    https://scikit-learn.org/stable/modules/linear_model.html#logistic-regression\n",
            "  n_iter_i = _check_optimize_result(\n",
            "/usr/local/lib/python3.10/dist-packages/sklearn/linear_model/_logistic.py:458: ConvergenceWarning: lbfgs failed to converge (status=1):\n",
            "STOP: TOTAL NO. of ITERATIONS REACHED LIMIT.\n",
            "\n",
            "Increase the number of iterations (max_iter) or scale the data as shown in:\n",
            "    https://scikit-learn.org/stable/modules/preprocessing.html\n",
            "Please also refer to the documentation for alternative solver options:\n",
            "    https://scikit-learn.org/stable/modules/linear_model.html#logistic-regression\n",
            "  n_iter_i = _check_optimize_result(\n",
            "/usr/local/lib/python3.10/dist-packages/sklearn/linear_model/_logistic.py:458: ConvergenceWarning: lbfgs failed to converge (status=1):\n",
            "STOP: TOTAL NO. of ITERATIONS REACHED LIMIT.\n",
            "\n",
            "Increase the number of iterations (max_iter) or scale the data as shown in:\n",
            "    https://scikit-learn.org/stable/modules/preprocessing.html\n",
            "Please also refer to the documentation for alternative solver options:\n",
            "    https://scikit-learn.org/stable/modules/linear_model.html#logistic-regression\n",
            "  n_iter_i = _check_optimize_result(\n",
            "/usr/local/lib/python3.10/dist-packages/sklearn/linear_model/_logistic.py:458: ConvergenceWarning: lbfgs failed to converge (status=1):\n",
            "STOP: TOTAL NO. of ITERATIONS REACHED LIMIT.\n",
            "\n",
            "Increase the number of iterations (max_iter) or scale the data as shown in:\n",
            "    https://scikit-learn.org/stable/modules/preprocessing.html\n",
            "Please also refer to the documentation for alternative solver options:\n",
            "    https://scikit-learn.org/stable/modules/linear_model.html#logistic-regression\n",
            "  n_iter_i = _check_optimize_result(\n",
            "/usr/local/lib/python3.10/dist-packages/sklearn/linear_model/_logistic.py:458: ConvergenceWarning: lbfgs failed to converge (status=1):\n",
            "STOP: TOTAL NO. of ITERATIONS REACHED LIMIT.\n",
            "\n",
            "Increase the number of iterations (max_iter) or scale the data as shown in:\n",
            "    https://scikit-learn.org/stable/modules/preprocessing.html\n",
            "Please also refer to the documentation for alternative solver options:\n",
            "    https://scikit-learn.org/stable/modules/linear_model.html#logistic-regression\n",
            "  n_iter_i = _check_optimize_result(\n",
            "/usr/local/lib/python3.10/dist-packages/sklearn/linear_model/_logistic.py:458: ConvergenceWarning: lbfgs failed to converge (status=1):\n",
            "STOP: TOTAL NO. of ITERATIONS REACHED LIMIT.\n",
            "\n",
            "Increase the number of iterations (max_iter) or scale the data as shown in:\n",
            "    https://scikit-learn.org/stable/modules/preprocessing.html\n",
            "Please also refer to the documentation for alternative solver options:\n",
            "    https://scikit-learn.org/stable/modules/linear_model.html#logistic-regression\n",
            "  n_iter_i = _check_optimize_result(\n",
            "/usr/local/lib/python3.10/dist-packages/sklearn/linear_model/_logistic.py:458: ConvergenceWarning: lbfgs failed to converge (status=1):\n",
            "STOP: TOTAL NO. of ITERATIONS REACHED LIMIT.\n",
            "\n",
            "Increase the number of iterations (max_iter) or scale the data as shown in:\n",
            "    https://scikit-learn.org/stable/modules/preprocessing.html\n",
            "Please also refer to the documentation for alternative solver options:\n",
            "    https://scikit-learn.org/stable/modules/linear_model.html#logistic-regression\n",
            "  n_iter_i = _check_optimize_result(\n",
            "/usr/local/lib/python3.10/dist-packages/sklearn/linear_model/_logistic.py:458: ConvergenceWarning: lbfgs failed to converge (status=1):\n",
            "STOP: TOTAL NO. of ITERATIONS REACHED LIMIT.\n",
            "\n",
            "Increase the number of iterations (max_iter) or scale the data as shown in:\n",
            "    https://scikit-learn.org/stable/modules/preprocessing.html\n",
            "Please also refer to the documentation for alternative solver options:\n",
            "    https://scikit-learn.org/stable/modules/linear_model.html#logistic-regression\n",
            "  n_iter_i = _check_optimize_result(\n",
            "/usr/local/lib/python3.10/dist-packages/sklearn/linear_model/_logistic.py:458: ConvergenceWarning: lbfgs failed to converge (status=1):\n",
            "STOP: TOTAL NO. of ITERATIONS REACHED LIMIT.\n",
            "\n",
            "Increase the number of iterations (max_iter) or scale the data as shown in:\n",
            "    https://scikit-learn.org/stable/modules/preprocessing.html\n",
            "Please also refer to the documentation for alternative solver options:\n",
            "    https://scikit-learn.org/stable/modules/linear_model.html#logistic-regression\n",
            "  n_iter_i = _check_optimize_result(\n",
            "/usr/local/lib/python3.10/dist-packages/sklearn/linear_model/_logistic.py:458: ConvergenceWarning: lbfgs failed to converge (status=1):\n",
            "STOP: TOTAL NO. of ITERATIONS REACHED LIMIT.\n",
            "\n",
            "Increase the number of iterations (max_iter) or scale the data as shown in:\n",
            "    https://scikit-learn.org/stable/modules/preprocessing.html\n",
            "Please also refer to the documentation for alternative solver options:\n",
            "    https://scikit-learn.org/stable/modules/linear_model.html#logistic-regression\n",
            "  n_iter_i = _check_optimize_result(\n",
            "/usr/local/lib/python3.10/dist-packages/sklearn/linear_model/_logistic.py:458: ConvergenceWarning: lbfgs failed to converge (status=1):\n",
            "STOP: TOTAL NO. of ITERATIONS REACHED LIMIT.\n",
            "\n",
            "Increase the number of iterations (max_iter) or scale the data as shown in:\n",
            "    https://scikit-learn.org/stable/modules/preprocessing.html\n",
            "Please also refer to the documentation for alternative solver options:\n",
            "    https://scikit-learn.org/stable/modules/linear_model.html#logistic-regression\n",
            "  n_iter_i = _check_optimize_result(\n",
            "/usr/local/lib/python3.10/dist-packages/sklearn/linear_model/_logistic.py:458: ConvergenceWarning: lbfgs failed to converge (status=1):\n",
            "STOP: TOTAL NO. of ITERATIONS REACHED LIMIT.\n",
            "\n",
            "Increase the number of iterations (max_iter) or scale the data as shown in:\n",
            "    https://scikit-learn.org/stable/modules/preprocessing.html\n",
            "Please also refer to the documentation for alternative solver options:\n",
            "    https://scikit-learn.org/stable/modules/linear_model.html#logistic-regression\n",
            "  n_iter_i = _check_optimize_result(\n",
            "/usr/local/lib/python3.10/dist-packages/sklearn/linear_model/_logistic.py:458: ConvergenceWarning: lbfgs failed to converge (status=1):\n",
            "STOP: TOTAL NO. of ITERATIONS REACHED LIMIT.\n",
            "\n",
            "Increase the number of iterations (max_iter) or scale the data as shown in:\n",
            "    https://scikit-learn.org/stable/modules/preprocessing.html\n",
            "Please also refer to the documentation for alternative solver options:\n",
            "    https://scikit-learn.org/stable/modules/linear_model.html#logistic-regression\n",
            "  n_iter_i = _check_optimize_result(\n",
            "/usr/local/lib/python3.10/dist-packages/sklearn/linear_model/_logistic.py:458: ConvergenceWarning: lbfgs failed to converge (status=1):\n",
            "STOP: TOTAL NO. of ITERATIONS REACHED LIMIT.\n",
            "\n",
            "Increase the number of iterations (max_iter) or scale the data as shown in:\n",
            "    https://scikit-learn.org/stable/modules/preprocessing.html\n",
            "Please also refer to the documentation for alternative solver options:\n",
            "    https://scikit-learn.org/stable/modules/linear_model.html#logistic-regression\n",
            "  n_iter_i = _check_optimize_result(\n",
            "/usr/local/lib/python3.10/dist-packages/sklearn/linear_model/_logistic.py:458: ConvergenceWarning: lbfgs failed to converge (status=1):\n",
            "STOP: TOTAL NO. of ITERATIONS REACHED LIMIT.\n",
            "\n",
            "Increase the number of iterations (max_iter) or scale the data as shown in:\n",
            "    https://scikit-learn.org/stable/modules/preprocessing.html\n",
            "Please also refer to the documentation for alternative solver options:\n",
            "    https://scikit-learn.org/stable/modules/linear_model.html#logistic-regression\n",
            "  n_iter_i = _check_optimize_result(\n",
            "/usr/local/lib/python3.10/dist-packages/sklearn/linear_model/_logistic.py:458: ConvergenceWarning: lbfgs failed to converge (status=1):\n",
            "STOP: TOTAL NO. of ITERATIONS REACHED LIMIT.\n",
            "\n",
            "Increase the number of iterations (max_iter) or scale the data as shown in:\n",
            "    https://scikit-learn.org/stable/modules/preprocessing.html\n",
            "Please also refer to the documentation for alternative solver options:\n",
            "    https://scikit-learn.org/stable/modules/linear_model.html#logistic-regression\n",
            "  n_iter_i = _check_optimize_result(\n"
          ]
        }
      ]
    },
    {
      "cell_type": "code",
      "source": [
        "y_val = np.array([label.decode('utf-8') for label in y_val])"
      ],
      "metadata": {
        "id": "eWKtK555z7wp"
      },
      "id": "eWKtK555z7wp",
      "execution_count": 13,
      "outputs": []
    },
    {
      "cell_type": "code",
      "source": [
        "y_val_encoded = label_encoder.transform(y_val)"
      ],
      "metadata": {
        "id": "lttS_ocKVUGL"
      },
      "id": "lttS_ocKVUGL",
      "execution_count": 14,
      "outputs": []
    },
    {
      "cell_type": "code",
      "source": [
        "from sklearn.metrics import accuracy_score\n",
        "\n",
        "#y_val_encoded should be in the same format as y_pred, and compute the accuracy\n",
        "for clf_name, clf in optimal_classifiers.items():\n",
        "    y_pred = clf.predict(X_val)\n",
        "    accuracy = accuracy_score(y_val_encoded, y_pred)\n",
        "    print(f\"Accuracy of {clf_name}: {accuracy}\")"
      ],
      "metadata": {
        "id": "kr20wRyrXvCH",
        "colab": {
          "base_uri": "https://localhost:8080/"
        },
        "outputId": "f91d6180-e96b-4c55-942d-050816f3b00e"
      },
      "id": "kr20wRyrXvCH",
      "execution_count": 21,
      "outputs": [
        {
          "output_type": "stream",
          "name": "stdout",
          "text": [
            "Accuracy of RandomForest: 0.9997570948544593\n",
            "Accuracy of SVM: 0.9994467160573796\n",
            "Accuracy of LogisticRegression: 0.9992173056421467\n"
          ]
        }
      ]
    },
    {
      "cell_type": "code",
      "source": [
        "best_accuracy = 0\n",
        "best_clf_name = None\n",
        "\n",
        "for clf_name, clf in optimal_classifiers.items():\n",
        "    y_val_pred = clf.predict(X_val)\n",
        "    accuracy = accuracy_score(y_val_encoded, y_val_pred)\n",
        "    if accuracy > best_accuracy:\n",
        "        best_accuracy = accuracy\n",
        "        best_clf_name = clf_name\n",
        "\n",
        "print(f\"Best classifier on validation set: {best_clf_name} with accuracy: {best_accuracy}\")\n",
        "\n",
        "best_clf = optimal_classifiers[best_clf_name]\n",
        "\n",
        "\n",
        "y_test_pred = best_clf.predict(X_test)\n",
        "test_accuracy = accuracy_score(y_test_encoded, y_test_pred)\n",
        "print(f\"Test Accuracy of {best_clf_name}: {test_accuracy}\")\n"
      ],
      "metadata": {
        "colab": {
          "base_uri": "https://localhost:8080/"
        },
        "id": "nmwtVqVKzaYw",
        "outputId": "4faab3cc-08a9-4be7-d660-9cf39c1d2d83"
      },
      "id": "nmwtVqVKzaYw",
      "execution_count": 23,
      "outputs": [
        {
          "output_type": "stream",
          "name": "stdout",
          "text": [
            "Best classifier on validation set: RandomForest with accuracy: 0.9997570948544593\n",
            "Test Accuracy of RandomForest: 0.9997031199395444\n"
          ]
        }
      ]
    },
    {
      "cell_type": "code",
      "source": [
        "y_test_encoded = label_encoder.transform(y_test)\n",
        "\n",
        "test_accuracy = accuracy_score(y_test_encoded, y_test_pred)\n",
        "print(f\"Test Accuracy of {best_clf_name}: {test_accuracy}\")"
      ],
      "metadata": {
        "colab": {
          "base_uri": "https://localhost:8080/"
        },
        "id": "0InljJP92-WW",
        "outputId": "85747035-15bf-4937-c517-e43caca645ad"
      },
      "id": "0InljJP92-WW",
      "execution_count": 24,
      "outputs": [
        {
          "output_type": "stream",
          "name": "stdout",
          "text": [
            "Test Accuracy of RandomForest: 0.9997031199395444\n"
          ]
        }
      ]
    },
    {
      "cell_type": "markdown",
      "source": [
        "### Exercise 2"
      ],
      "metadata": {
        "id": "SMtq9gh039Hd"
      },
      "id": "SMtq9gh039Hd"
    },
    {
      "cell_type": "code",
      "source": [
        "categorical_indices = [1, 2, 3]\n",
        "numerical_indices = [0, 4, 5]\n",
        "\n",
        "# Update the preprocessor to ignore unknown categories\n",
        "preprocessor = ColumnTransformer(\n",
        "    transformers=[\n",
        "        ('num', StandardScaler(), numerical_indices),\n",
        "        ('cat', OneHotEncoder(handle_unknown='ignore'), categorical_indices)\n",
        "    ])\n",
        "\n",
        "\n",
        "preprocessor.fit(X_train)\n",
        "\n",
        "# Transform both training and test data again\n",
        "X_train_encoded = preprocessor.transform(X_train)\n",
        "X_test_encoded = preprocessor.transform(X_test)"
      ],
      "metadata": {
        "id": "xJ2YB0cj4jW4"
      },
      "id": "xJ2YB0cj4jW4",
      "execution_count": 16,
      "outputs": []
    },
    {
      "cell_type": "code",
      "source": [
        "from sklearn.preprocessing import LabelEncoder\n",
        "\n",
        "label_encoder = LabelEncoder()\n",
        "y_train_encoded = label_encoder.fit_transform(y_train)"
      ],
      "metadata": {
        "id": "UjfALZxXVWPi"
      },
      "id": "UjfALZxXVWPi",
      "execution_count": 15,
      "outputs": []
    },
    {
      "cell_type": "code",
      "source": [
        "from sklearn.ensemble import RandomForestClassifier\n",
        "\n",
        "ensemble_clf = RandomForestClassifier(n_estimators=25, random_state=42)\n",
        "\n",
        "ensemble_clf.fit(X_train_encoded, y_train_encoded)\n",
        "\n",
        "ensemble_predictions = ensemble_clf.predict_proba(X_test_encoded)"
      ],
      "metadata": {
        "id": "3lWLXkAU3_ro"
      },
      "id": "3lWLXkAU3_ro",
      "execution_count": 30,
      "outputs": []
    },
    {
      "cell_type": "code",
      "source": [
        "# Calculate the maximum predicted probability for each sample\n",
        "max_probabilities = np.max(ensemble_predictions, axis=1)\n",
        "\n",
        "# Calculate the thresholds for the top and bottom 10%\n",
        "top_10_percent_threshold = np.percentile(max_probabilities, 90)\n",
        "bottom_10_percent_threshold = np.percentile(max_probabilities, 10)\n",
        "\n",
        "# Identify the top and bottom 10% of the data\n",
        "top_10_percent_indices = np.where(max_probabilities >= top_10_percent_threshold)[0]\n",
        "bottom_10_percent_indices = np.where(max_probabilities <= bottom_10_percent_threshold)[0]\n",
        "\n",
        "# Output the results\n",
        "print(f\"Indices of the top 10% uncertain data: {top_10_percent_indices}\")\n",
        "print(f\"Indices of the bottom 10% uncertain data: {bottom_10_percent_indices}\")"
      ],
      "metadata": {
        "colab": {
          "base_uri": "https://localhost:8080/"
        },
        "id": "EQUILI4m5tUI",
        "outputId": "a309d3b5-422d-4bbb-d9f8-42eef12470f2"
      },
      "id": "EQUILI4m5tUI",
      "execution_count": 31,
      "outputs": [
        {
          "output_type": "stream",
          "name": "stdout",
          "text": [
            "Indices of the top 10% uncertain data: [    0     1     2 ... 74100 74101 74102]\n",
            "Indices of the bottom 10% uncertain data: [    4    14    15 ... 74098 74099 74103]\n"
          ]
        }
      ]
    },
    {
      "cell_type": "markdown",
      "source": [
        "### Exercise 3"
      ],
      "metadata": {
        "id": "EefrrVr061VZ"
      },
      "id": "EefrrVr061VZ"
    },
    {
      "cell_type": "markdown",
      "source": [
        "Method 1"
      ],
      "metadata": {
        "id": "O1javIkY8gwo"
      },
      "id": "O1javIkY8gwo"
    },
    {
      "cell_type": "code",
      "source": [
        "from sklearn.feature_selection import SelectFromModel\n",
        "from sklearn.ensemble import RandomForestClassifier\n",
        "from sklearn.metrics import accuracy_score\n",
        "\n",
        "# Instantiate a classifier to use with SelectFromModel\n",
        "rf_classifier = RandomForestClassifier(n_estimators=50, random_state=42)\n",
        "\n",
        "# Fit the classifier to get feature importances\n",
        "rf_classifier.fit(X_train_encoded, y_train_encoded)\n",
        "\n",
        "selector = SelectFromModel(rf_classifier, max_features=10, prefit=True)\n",
        "\n",
        "\n",
        "X_train_selected = selector.transform(X_train_encoded)\n",
        "X_test_selected = selector.transform(X_test_encoded)\n",
        "\n",
        "\n",
        "rf_classifier.fit(X_train_selected, y_train_encoded)\n",
        "y_pred_selected = rf_classifier.predict(X_test_selected)\n",
        "\n",
        "\n",
        "accuracy_selected = accuracy_score(y_test_encoded, y_pred_selected)"
      ],
      "metadata": {
        "id": "I6ZE5JkjPLMB"
      },
      "id": "I6ZE5JkjPLMB",
      "execution_count": 32,
      "outputs": []
    },
    {
      "cell_type": "markdown",
      "source": [
        "Method 2"
      ],
      "metadata": {
        "id": "h8SJoh9P8mTO"
      },
      "id": "h8SJoh9P8mTO"
    },
    {
      "cell_type": "code",
      "source": [
        "rf_classifier.fit(X_train_encoded, y_train_encoded)\n",
        "\n",
        "importances = rf_classifier.feature_importances_\n",
        "indices = np.argsort(importances)[::-1]\n",
        "\n",
        "# Select the top 10 most important features\n",
        "top_indices = indices[:10]\n",
        "X_train_top_features = X_train_encoded[:, top_indices]\n",
        "X_test_top_features = X_test_encoded[:, top_indices]\n",
        "\n",
        "# Train a classifier on the top features\n",
        "rf_classifier.fit(X_train_top_features, y_train_encoded)\n",
        "y_pred_top_features = rf_classifier.predict(X_test_top_features)\n",
        "\n",
        "# Evaluate performance\n",
        "accuracy_top_features = accuracy_score(y_test_encoded, y_pred_top_features)\n"
      ],
      "metadata": {
        "id": "dNbSeIuA65Ut"
      },
      "id": "dNbSeIuA65Ut",
      "execution_count": 33,
      "outputs": []
    },
    {
      "cell_type": "code",
      "source": [
        "print(f'Accuracy with RFE selected features: {accuracy_selected}')\n",
        "print(f'Accuracy with top model features: {accuracy_top_features}')"
      ],
      "metadata": {
        "colab": {
          "base_uri": "https://localhost:8080/"
        },
        "id": "Q2v5l6mV9AW1",
        "outputId": "b0cc28dc-581e-4c57-b5ca-892e7c52d69c"
      },
      "id": "Q2v5l6mV9AW1",
      "execution_count": 34,
      "outputs": [
        {
          "output_type": "stream",
          "name": "stdout",
          "text": [
            "Accuracy with RFE selected features: 0.9782332937493253\n",
            "Accuracy with top model features: 0.9782332937493253\n"
          ]
        }
      ]
    },
    {
      "cell_type": "markdown",
      "source": [
        "### Excercise 4"
      ],
      "metadata": {
        "id": "yz2Th41ZR9QZ"
      },
      "id": "yz2Th41ZR9QZ"
    },
    {
      "cell_type": "code",
      "source": [
        "number_of_classes = len(np.unique(y_train))"
      ],
      "metadata": {
        "id": "r_W8N_Gp6tDq"
      },
      "id": "r_W8N_Gp6tDq",
      "execution_count": 17,
      "outputs": []
    },
    {
      "cell_type": "code",
      "source": [
        "from sklearn.cluster import KMeans, AgglomerativeClustering, DBSCAN\n",
        "from sklearn.metrics import silhouette_score, adjusted_rand_score\n",
        "import numpy as np"
      ],
      "metadata": {
        "id": "PHQQtuuMSAh5"
      },
      "id": "PHQQtuuMSAh5",
      "execution_count": 18,
      "outputs": []
    },
    {
      "cell_type": "code",
      "source": [
        "from sklearn.model_selection import train_test_split\n",
        "\n",
        "X_sample, _ = train_test_split(X_train_encoded, train_size=0.1, random_state=42)\n",
        "\n",
        "# K-Means Clustering\n",
        "kmeans = KMeans(n_clusters=number_of_classes, random_state=42)\n",
        "kmeans_labels_sample = kmeans.fit_predict(X_sample)\n",
        "\n",
        "# Calculate silhouette score on the sample\n",
        "silhouette_kmeans_sample = silhouette_score(X_sample, kmeans_labels_sample)\n",
        "\n",
        "print(f'Silhouette Score for K-Means (on sample): {silhouette_kmeans_sample}')"
      ],
      "metadata": {
        "colab": {
          "base_uri": "https://localhost:8080/"
        },
        "id": "DJYM3yXa8MBB",
        "outputId": "d3964779-5c2a-42b8-fa28-0f0672f46856"
      },
      "id": "DJYM3yXa8MBB",
      "execution_count": 42,
      "outputs": [
        {
          "output_type": "stream",
          "name": "stderr",
          "text": [
            "/usr/local/lib/python3.10/dist-packages/sklearn/cluster/_kmeans.py:870: FutureWarning: The default value of `n_init` will change from 10 to 'auto' in 1.4. Set the value of `n_init` explicitly to suppress the warning\n",
            "  warnings.warn(\n"
          ]
        },
        {
          "output_type": "stream",
          "name": "stdout",
          "text": [
            "Silhouette Score for K-Means (on sample): 0.8196713888611975\n"
          ]
        }
      ]
    },
    {
      "cell_type": "code",
      "source": [
        "categorical_indices = [1, 2, 3]\n",
        "numerical_indices = [0, 4, 5]\n",
        "\n",
        "# Update the preprocessor to ignore unknown categories\n",
        "preprocessor = ColumnTransformer(\n",
        "    transformers=[\n",
        "        ('num', StandardScaler(), numerical_indices),\n",
        "        ('cat', OneHotEncoder(handle_unknown='ignore'), categorical_indices)\n",
        "    ])\n",
        "\n",
        "\n",
        "preprocessor.fit(X_train)\n",
        "\n",
        "# Transform both training and test data again\n",
        "X_train_encoded = preprocessor.transform(X_train)\n",
        "X_test_encoded = preprocessor.transform(X_test)"
      ],
      "metadata": {
        "id": "10KzoXPf_g3o"
      },
      "id": "10KzoXPf_g3o",
      "execution_count": 19,
      "outputs": []
    },
    {
      "cell_type": "code",
      "source": [
        "from sklearn.model_selection import train_test_split\n",
        "X_sample, _ = train_test_split(X_train_encoded, train_size=0.1, random_state=42)"
      ],
      "metadata": {
        "id": "AEaAMosv_bQp"
      },
      "id": "AEaAMosv_bQp",
      "execution_count": 20,
      "outputs": []
    },
    {
      "cell_type": "code",
      "source": [
        "# Convert the sparse matrix to a dense matrix\n",
        "X_sample_dense = X_sample.toarray()\n",
        "\n",
        "# Apply Agglomerative Clustering on the dense sample\n",
        "agg_clustering = AgglomerativeClustering(n_clusters=number_of_classes)\n",
        "agg_labels = agg_clustering.fit_predict(X_sample_dense)\n",
        "\n",
        "# Calculate the silhouette score on the dense sample\n",
        "silhouette_agg = silhouette_score(X_sample_dense, agg_labels)\n",
        "\n",
        "print(f'Silhouette Score for Agglomerative Clustering (on sample): {silhouette_agg}')\n"
      ],
      "metadata": {
        "id": "wExCX1WJ50Sh"
      },
      "id": "wExCX1WJ50Sh",
      "execution_count": null,
      "outputs": []
    },
    {
      "cell_type": "code",
      "source": [
        "# DBSCAN Clustering\n",
        "dbscan = DBSCAN(eps=0.5, min_samples=5)  # Parameters such as eps and min_samples may need tuning\n",
        "dbscan_labels = dbscan.fit_predict(X_train_encoded)\n",
        "# Note: DBSCAN may find a different number of clusters, so silhouette score is only valid if clusters > 1\n",
        "if len(np.unique(dbscan_labels)) > 1:\n",
        "    silhouette_dbscan = silhouette_score(X_train_encoded, dbscan_labels)\n",
        "else:\n",
        "    silhouette_dbscan = None  # DBSCAN found less than 2 clusters\n"
      ],
      "metadata": {
        "id": "80TUaToCCyBS"
      },
      "id": "80TUaToCCyBS",
      "execution_count": null,
      "outputs": []
    },
    {
      "cell_type": "code",
      "source": [],
      "metadata": {
        "id": "nP0IsnGkEI60"
      },
      "id": "nP0IsnGkEI60",
      "execution_count": null,
      "outputs": []
    }
  ],
  "metadata": {
    "kernelspec": {
      "display_name": "Python 3 (ipykernel)",
      "language": "python",
      "name": "python3"
    },
    "language_info": {
      "codemirror_mode": {
        "name": "ipython",
        "version": 3
      },
      "file_extension": ".py",
      "mimetype": "text/x-python",
      "name": "python",
      "nbconvert_exporter": "python",
      "pygments_lexer": "ipython3",
      "version": "3.11.4"
    },
    "colab": {
      "provenance": []
    }
  },
  "nbformat": 4,
  "nbformat_minor": 5
}